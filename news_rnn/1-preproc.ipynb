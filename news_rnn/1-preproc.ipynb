{
 "cells": [
  {
   "cell_type": "markdown",
   "metadata": {},
   "source": [
    "This notebook is used to preprocess the dataset for input into our ML models using spacy for tokenization, lemmatization, and PoS tagging."
   ]
  },
  {
   "cell_type": "code",
   "execution_count": 2,
   "metadata": {
    "collapsed": true
   },
   "outputs": [],
   "source": [
    "from __future__ import unicode_literals, print_function\n",
    "\n",
    "import tld\n",
    "import spacy\n",
    "import pandas as pd\n",
    "import numpy as np\n",
    "from sklearn.preprocessing import LabelEncoder\n",
    "\n",
    "import utils\n",
    "\n",
    "spacy.load('en')\n",
    "\n",
    "%load_ext autoreload"
   ]
  },
  {
   "cell_type": "code",
   "execution_count": 13,
   "metadata": {
    "collapsed": true
   },
   "outputs": [],
   "source": [
    "%autoreload\n",
    "import utils"
   ]
  },
  {
   "cell_type": "markdown",
   "metadata": {},
   "source": [
    "### Pre-pre-processing\n",
    "Read and clean article text for the types of articles we care about, namely those Alchemy has labeled as political, and that we have labeled as either \"conservative\" or \"liberal\".  We'll also extract top-level domain for later.  The output here is a pandas dataframe."
   ]
  },
  {
   "cell_type": "code",
   "execution_count": 14,
   "metadata": {},
   "outputs": [
    {
     "name": "stdout",
     "output_type": "stream",
     "text": [
      "Number of articles: 67292\n"
     ]
    }
   ],
   "source": [
    "# Read data, excluding satirical because there are too few samples.\n",
    "\n",
    "datadir = '../../news-crawler/data/articles/'\n",
    "files = utils.get_file_list(datadir, exclude_regex='.*satirical')\n",
    "\n",
    "print('Number of articles: {}'.format(len(files)))"
   ]
  },
  {
   "cell_type": "code",
   "execution_count": 16,
   "metadata": {
    "scrolled": false
   },
   "outputs": [
    {
     "name": "stdout",
     "output_type": "stream",
     "text": [
      "(67292, 3)\n",
      "CPU times: user 156 ms, sys: 88 ms, total: 244 ms\n",
      "Wall time: 26.7 s\n"
     ]
    }
   ],
   "source": [
    "%%time\n",
    "\n",
    "# Use multiprocessing to pre-pre-process.\n",
    "\n",
    "df = utils.create_dataframe(files)\n",
    "print(df.shape)"
   ]
  },
  {
   "cell_type": "code",
   "execution_count": 17,
   "metadata": {},
   "outputs": [
    {
     "data": {
      "text/html": [
       "<div>\n",
       "<table border=\"1\" class=\"dataframe\">\n",
       "  <thead>\n",
       "    <tr style=\"text-align: right;\">\n",
       "      <th></th>\n",
       "      <th>title</th>\n",
       "      <th>label</th>\n",
       "      <th>url</th>\n",
       "    </tr>\n",
       "  </thead>\n",
       "  <tbody>\n",
       "    <tr>\n",
       "      <th>0</th>\n",
       "      <td>CNN/ORC Poll: Most Americans Want Washington C...</td>\n",
       "      <td>conservative</td>\n",
       "      <td>http://www.newsmax.com/Politics/Americans-comp...</td>\n",
       "    </tr>\n",
       "    <tr>\n",
       "      <th>1</th>\n",
       "      <td>Marines' Nude Photo Scandal Goes Beyond That O...</td>\n",
       "      <td>liberal</td>\n",
       "      <td>http://www.huffingtonpost.com/entry/marines-nu...</td>\n",
       "    </tr>\n",
       "    <tr>\n",
       "      <th>2</th>\n",
       "      <td>Man Survives 1,500-Foot Fall off Mountain - Br...</td>\n",
       "      <td>conservative</td>\n",
       "      <td>http://www.breitbart.com/big-government/2017/0...</td>\n",
       "    </tr>\n",
       "    <tr>\n",
       "      <th>3</th>\n",
       "      <td>GOP health-care bill would drop addiction trea...</td>\n",
       "      <td>liberal</td>\n",
       "      <td>https://www.washingtonpost.com/news/wonk/wp/20...</td>\n",
       "    </tr>\n",
       "    <tr>\n",
       "      <th>4</th>\n",
       "      <td>Mansfield Timberview tops Corpus Christi Memor...</td>\n",
       "      <td>conservative</td>\n",
       "      <td>http://www.washingtontimes.com/news/2017/mar/9...</td>\n",
       "    </tr>\n",
       "  </tbody>\n",
       "</table>\n",
       "</div>"
      ],
      "text/plain": [
       "                                               title         label  \\\n",
       "0  CNN/ORC Poll: Most Americans Want Washington C...  conservative   \n",
       "1  Marines' Nude Photo Scandal Goes Beyond That O...       liberal   \n",
       "2  Man Survives 1,500-Foot Fall off Mountain - Br...  conservative   \n",
       "3  GOP health-care bill would drop addiction trea...       liberal   \n",
       "4  Mansfield Timberview tops Corpus Christi Memor...  conservative   \n",
       "\n",
       "                                                 url  \n",
       "0  http://www.newsmax.com/Politics/Americans-comp...  \n",
       "1  http://www.huffingtonpost.com/entry/marines-nu...  \n",
       "2  http://www.breitbart.com/big-government/2017/0...  \n",
       "3  https://www.washingtonpost.com/news/wonk/wp/20...  \n",
       "4  http://www.washingtontimes.com/news/2017/mar/9...  "
      ]
     },
     "execution_count": 17,
     "metadata": {},
     "output_type": "execute_result"
    }
   ],
   "source": [
    "# Take a peek!\n",
    "\n",
    "df.head()"
   ]
  },
  {
   "cell_type": "code",
   "execution_count": 18,
   "metadata": {},
   "outputs": [
    {
     "data": {
      "text/html": [
       "<div>\n",
       "<table border=\"1\" class=\"dataframe\">\n",
       "  <thead>\n",
       "    <tr style=\"text-align: right;\">\n",
       "      <th></th>\n",
       "      <th>title</th>\n",
       "      <th>label</th>\n",
       "      <th>url</th>\n",
       "      <th>domain</th>\n",
       "    </tr>\n",
       "  </thead>\n",
       "  <tbody>\n",
       "    <tr>\n",
       "      <th>0</th>\n",
       "      <td>CNN/ORC Poll: Most Americans Want Washington C...</td>\n",
       "      <td>conservative</td>\n",
       "      <td>http://www.newsmax.com/Politics/Americans-comp...</td>\n",
       "      <td>newsmax.com</td>\n",
       "    </tr>\n",
       "    <tr>\n",
       "      <th>1</th>\n",
       "      <td>Marines' Nude Photo Scandal Goes Beyond That O...</td>\n",
       "      <td>liberal</td>\n",
       "      <td>http://www.huffingtonpost.com/entry/marines-nu...</td>\n",
       "      <td>huffingtonpost.com</td>\n",
       "    </tr>\n",
       "    <tr>\n",
       "      <th>2</th>\n",
       "      <td>Man Survives 1,500-Foot Fall off Mountain - Br...</td>\n",
       "      <td>conservative</td>\n",
       "      <td>http://www.breitbart.com/big-government/2017/0...</td>\n",
       "      <td>breitbart.com</td>\n",
       "    </tr>\n",
       "    <tr>\n",
       "      <th>3</th>\n",
       "      <td>GOP health-care bill would drop addiction trea...</td>\n",
       "      <td>liberal</td>\n",
       "      <td>https://www.washingtonpost.com/news/wonk/wp/20...</td>\n",
       "      <td>washingtonpost.com</td>\n",
       "    </tr>\n",
       "    <tr>\n",
       "      <th>4</th>\n",
       "      <td>Mansfield Timberview tops Corpus Christi Memor...</td>\n",
       "      <td>conservative</td>\n",
       "      <td>http://www.washingtontimes.com/news/2017/mar/9...</td>\n",
       "      <td>washingtontimes.com</td>\n",
       "    </tr>\n",
       "  </tbody>\n",
       "</table>\n",
       "</div>"
      ],
      "text/plain": [
       "                                               title         label  \\\n",
       "0  CNN/ORC Poll: Most Americans Want Washington C...  conservative   \n",
       "1  Marines' Nude Photo Scandal Goes Beyond That O...       liberal   \n",
       "2  Man Survives 1,500-Foot Fall off Mountain - Br...  conservative   \n",
       "3  GOP health-care bill would drop addiction trea...       liberal   \n",
       "4  Mansfield Timberview tops Corpus Christi Memor...  conservative   \n",
       "\n",
       "                                                 url               domain  \n",
       "0  http://www.newsmax.com/Politics/Americans-comp...          newsmax.com  \n",
       "1  http://www.huffingtonpost.com/entry/marines-nu...   huffingtonpost.com  \n",
       "2  http://www.breitbart.com/big-government/2017/0...        breitbart.com  \n",
       "3  https://www.washingtonpost.com/news/wonk/wp/20...   washingtonpost.com  \n",
       "4  http://www.washingtontimes.com/news/2017/mar/9...  washingtontimes.com  "
      ]
     },
     "execution_count": 18,
     "metadata": {},
     "output_type": "execute_result"
    }
   ],
   "source": [
    "# Extract top-level domain for later.\n",
    "\n",
    "df['domain'] = df['url'].map(tld.get_tld)\n",
    "df.head()"
   ]
  },
  {
   "cell_type": "code",
   "execution_count": 19,
   "metadata": {
    "collapsed": true
   },
   "outputs": [],
   "source": [
    "df.to_pickle('../data/titles.pkl')"
   ]
  },
  {
   "cell_type": "markdown",
   "metadata": {},
   "source": [
    "### Pre-processing using spacy NLP\n",
    "\n",
    "__Lemmatize the text and tag words with their part of speech.__"
   ]
  },
  {
   "cell_type": "code",
   "execution_count": 20,
   "metadata": {},
   "outputs": [
    {
     "data": {
      "text/plain": [
       "(67292, 4)"
      ]
     },
     "execution_count": 20,
     "metadata": {},
     "output_type": "execute_result"
    }
   ],
   "source": [
    "df = pd.read_pickle('../data/titles.pkl')\n",
    "df.shape"
   ]
  },
  {
   "cell_type": "code",
   "execution_count": 21,
   "metadata": {
    "collapsed": true
   },
   "outputs": [],
   "source": [
    "# We'll keep article if it has at least min_sents sentences.\n",
    "min_sents = 0     \n",
    "\n",
    "# Whether to exclude stopwords.\n",
    "keep_stops = True"
   ]
  },
  {
   "cell_type": "code",
   "execution_count": 22,
   "metadata": {
    "collapsed": true,
    "scrolled": true
   },
   "outputs": [],
   "source": [
    "#%%time\n",
    "\n",
    "# Tokenize the text.\n",
    "\n",
    "#df['title'] = utils.parse_docs(list(df['title']), keep_stops, min_sents)"
   ]
  },
  {
   "cell_type": "code",
   "execution_count": 23,
   "metadata": {},
   "outputs": [
    {
     "data": {
      "text/html": [
       "<div>\n",
       "<table border=\"1\" class=\"dataframe\">\n",
       "  <thead>\n",
       "    <tr style=\"text-align: right;\">\n",
       "      <th></th>\n",
       "      <th>title</th>\n",
       "      <th>label</th>\n",
       "      <th>url</th>\n",
       "      <th>domain</th>\n",
       "    </tr>\n",
       "  </thead>\n",
       "  <tbody>\n",
       "    <tr>\n",
       "      <th>0</th>\n",
       "      <td>CNN/ORC Poll: Most Americans Want Washington C...</td>\n",
       "      <td>conservative</td>\n",
       "      <td>http://www.newsmax.com/Politics/Americans-comp...</td>\n",
       "      <td>newsmax.com</td>\n",
       "    </tr>\n",
       "    <tr>\n",
       "      <th>1</th>\n",
       "      <td>Marines' Nude Photo Scandal Goes Beyond That O...</td>\n",
       "      <td>liberal</td>\n",
       "      <td>http://www.huffingtonpost.com/entry/marines-nu...</td>\n",
       "      <td>huffingtonpost.com</td>\n",
       "    </tr>\n",
       "    <tr>\n",
       "      <th>2</th>\n",
       "      <td>Man Survives 1,500-Foot Fall off Mountain - Br...</td>\n",
       "      <td>conservative</td>\n",
       "      <td>http://www.breitbart.com/big-government/2017/0...</td>\n",
       "      <td>breitbart.com</td>\n",
       "    </tr>\n",
       "    <tr>\n",
       "      <th>3</th>\n",
       "      <td>GOP health-care bill would drop addiction trea...</td>\n",
       "      <td>liberal</td>\n",
       "      <td>https://www.washingtonpost.com/news/wonk/wp/20...</td>\n",
       "      <td>washingtonpost.com</td>\n",
       "    </tr>\n",
       "    <tr>\n",
       "      <th>4</th>\n",
       "      <td>Mansfield Timberview tops Corpus Christi Memor...</td>\n",
       "      <td>conservative</td>\n",
       "      <td>http://www.washingtontimes.com/news/2017/mar/9...</td>\n",
       "      <td>washingtontimes.com</td>\n",
       "    </tr>\n",
       "  </tbody>\n",
       "</table>\n",
       "</div>"
      ],
      "text/plain": [
       "                                               title         label  \\\n",
       "0  CNN/ORC Poll: Most Americans Want Washington C...  conservative   \n",
       "1  Marines' Nude Photo Scandal Goes Beyond That O...       liberal   \n",
       "2  Man Survives 1,500-Foot Fall off Mountain - Br...  conservative   \n",
       "3  GOP health-care bill would drop addiction trea...       liberal   \n",
       "4  Mansfield Timberview tops Corpus Christi Memor...  conservative   \n",
       "\n",
       "                                                 url               domain  \n",
       "0  http://www.newsmax.com/Politics/Americans-comp...          newsmax.com  \n",
       "1  http://www.huffingtonpost.com/entry/marines-nu...   huffingtonpost.com  \n",
       "2  http://www.breitbart.com/big-government/2017/0...        breitbart.com  \n",
       "3  https://www.washingtonpost.com/news/wonk/wp/20...   washingtonpost.com  \n",
       "4  http://www.washingtontimes.com/news/2017/mar/9...  washingtontimes.com  "
      ]
     },
     "execution_count": 23,
     "metadata": {},
     "output_type": "execute_result"
    }
   ],
   "source": [
    "df.head()"
   ]
  },
  {
   "cell_type": "code",
   "execution_count": 24,
   "metadata": {
    "scrolled": false
   },
   "outputs": [
    {
     "name": "stdout",
     "output_type": "stream",
     "text": [
      "cnn.com,7610,\n",
      "usatoday.com,4817,\n",
      "cbsnews.com,4576,\n",
      "go.com,4393,Video:\n",
      "go.com,4393,\n",
      "washingtonpost.com,4030,\n",
      "breitbart.com,3740,- Breitbart\n",
      "breitbart.com,3740,\n",
      "nytimes.com,3711,\n",
      "cnbc.com,3185,\n",
      "newsmax.com,2530,\n",
      "foxnews.com,2436,\n",
      "rightwingnews.com,2356,| John Hawkins' Right Wing News\n",
      "rightwingnews.com,2356,\n",
      "washingtonexaminer.com,2040,\n",
      "realclearpolitics.com,2002,| RealClearPolitics\n",
      "realclearpolitics.com,2002,\n",
      "westernjournalism.com,1960,Just\n",
      "westernjournalism.com,1960,Trump\n",
      "westernjournalism.com,1960,\n",
      "washingtontimes.com,1712,\n",
      "dailywire.com,1537,\n",
      "weeklystandard.com,1496,\n",
      "reuters.com,1463,\n",
      "theatlantic.com,1259,\n",
      "huffingtonpost.com,1215,\n",
      "nypost.com,1144,\n",
      "ijr.com,856,to\n",
      "ijr.com,856,\n",
      "ap.org,841,Associated Press\n",
      "ap.org,841,\n",
      "ap.org,841,\n",
      "ap.org,841,\n",
      "ap.org,841,\n",
      "ap.org,841,\n",
      "ap.org,841,\n",
      "thehill.com,812,\n",
      "newsbusters.org,772,\n",
      "twitchy.com,771,\n",
      "freebeacon.com,749,\n",
      "americanthinker.com,742,Articles:\n",
      "americanthinker.com,742,\n",
      "slate.com,673,the\n",
      "slate.com,673,\n",
      "wsj.com,637,\n",
      "motherjones.com,490,\n",
      "cbslocal.com,109,\n",
      "bleacherreport.com,88,\n",
      "dailysurge.com,72,» DailySurge\n",
      "dailysurge.com,72,COMMENTARY:\n",
      "dailysurge.com,72,the\n",
      "dailysurge.com,72,\n",
      "rushlimbaugh.com,65,- The Rush Limbaugh Show\n",
      "rushlimbaugh.com,65,\n",
      "CPU times: user 9.78 s, sys: 652 ms, total: 10.4 s\n",
      "Wall time: 9.32 s\n"
     ]
    }
   ],
   "source": [
    "%%time\n",
    "\n",
    "# Remove domain identifiers from the text.\n",
    "\n",
    "df = utils.remove_hints(df)"
   ]
  },
  {
   "cell_type": "code",
   "execution_count": 25,
   "metadata": {},
   "outputs": [
    {
     "data": {
      "text/plain": [
       "(66046, 5)"
      ]
     },
     "execution_count": 25,
     "metadata": {},
     "output_type": "execute_result"
    }
   ],
   "source": [
    "# Some of the articles are empty, let's remove them.\n",
    "\n",
    "df = df.drop(df.index[np.where((df['tokenized'] == '') | (df['tokenized'].isnull()))[0]])\n",
    "df.index = range(df.shape[0])  # Need to re-index again.\n",
    "df.shape"
   ]
  },
  {
   "cell_type": "code",
   "execution_count": 26,
   "metadata": {},
   "outputs": [
    {
     "name": "stdout",
     "output_type": "stream",
     "text": [
      "processing 66046 docs\n",
      "CPU times: user 120 ms, sys: 96 ms, total: 216 ms\n",
      "Wall time: 5.05 s\n"
     ]
    }
   ],
   "source": [
    "%%time\n",
    "\n",
    "# Tokenize the text.\n",
    "\n",
    "df['tokenized'] = utils.parse_docs(list(df['tokenized']), keep_stops, min_sents)"
   ]
  },
  {
   "cell_type": "markdown",
   "metadata": {},
   "source": [
    "__Next let's encode the entire corpus into some vocab data structures.__"
   ]
  },
  {
   "cell_type": "code",
   "execution_count": 27,
   "metadata": {},
   "outputs": [
    {
     "name": "stdout",
     "output_type": "stream",
     "text": [
      "dictionary size: 34414\n",
      "CPU times: user 368 ms, sys: 68 ms, total: 436 ms\n",
      "Wall time: 338 ms\n"
     ]
    }
   ],
   "source": [
    "%%time\n",
    "\n",
    "# Extract the vocabulary and related data structures for encoding/decoding the corpus.\n",
    "\n",
    "vocab_list, vocab_word2idx, vocab_idx2word = utils.create_vocab(df['tokenized'].tolist())"
   ]
  },
  {
   "cell_type": "code",
   "execution_count": 28,
   "metadata": {},
   "outputs": [
    {
     "data": {
      "text/plain": [
       "[(u'trump_PROPN', 17496),\n",
       " (u'the_DET', 12820),\n",
       " (u'in_ADP', 12107),\n",
       " (u'of_ADP', 10150),\n",
       " (u'to_PART', 9985),\n",
       " (u'be_VERB', 9851),\n",
       " (u'-PRON-_PRON', 9181),\n",
       " (u'for_ADP', 8150),\n",
       " (u'on_ADP', 7357),\n",
       " (u'a_DET', 7116)]"
      ]
     },
     "execution_count": 28,
     "metadata": {},
     "output_type": "execute_result"
    }
   ],
   "source": [
    "# Check out the top 10 words\n",
    "\n",
    "vocab_list[:10]"
   ]
  },
  {
   "cell_type": "code",
   "execution_count": 29,
   "metadata": {},
   "outputs": [
    {
     "name": "stdout",
     "output_type": "stream",
     "text": [
      "CPU times: user 200 ms, sys: 24 ms, total: 224 ms\n",
      "Wall time: 190 ms\n"
     ]
    }
   ],
   "source": [
    "%%time\n",
    "\n",
    "# Encode the corpus.\n",
    "\n",
    "df['encoded_text'] = df['tokenized'].map(lambda x: [vocab_word2idx[y] for y in x.split()])"
   ]
  },
  {
   "cell_type": "code",
   "execution_count": 30,
   "metadata": {},
   "outputs": [
    {
     "data": {
      "text/html": [
       "<div>\n",
       "<table border=\"1\" class=\"dataframe\">\n",
       "  <thead>\n",
       "    <tr style=\"text-align: right;\">\n",
       "      <th></th>\n",
       "      <th>title</th>\n",
       "      <th>label</th>\n",
       "      <th>url</th>\n",
       "      <th>domain</th>\n",
       "      <th>tokenized</th>\n",
       "      <th>encoded_text</th>\n",
       "      <th>encoded_label</th>\n",
       "    </tr>\n",
       "  </thead>\n",
       "  <tbody>\n",
       "    <tr>\n",
       "      <th>0</th>\n",
       "      <td>CNN/ORC Poll: Most Americans Want Washington C...</td>\n",
       "      <td>conservative</td>\n",
       "      <td>http://www.newsmax.com/Politics/Americans-comp...</td>\n",
       "      <td>newsmax.com</td>\n",
       "      <td>cnn_PROPN orc_PROPN poll_PROPN most_ADJ americ...</td>\n",
       "      <td>[34, 3435, 986, 666, 187, 59, 122, 7407]</td>\n",
       "      <td>0</td>\n",
       "    </tr>\n",
       "    <tr>\n",
       "      <th>1</th>\n",
       "      <td>Marines' Nude Photo Scandal Goes Beyond That O...</td>\n",
       "      <td>liberal</td>\n",
       "      <td>http://www.huffingtonpost.com/entry/marines-nu...</td>\n",
       "      <td>huffingtonpost.com</td>\n",
       "      <td>marines_PROPN nude_PROPN photo_PROPN scandal_N...</td>\n",
       "      <td>[1714, 7665, 2021, 399, 49, 2014, 107, 78, 484...</td>\n",
       "      <td>1</td>\n",
       "    </tr>\n",
       "    <tr>\n",
       "      <th>2</th>\n",
       "      <td>Man Survives 1,500-Foot Fall off Mountain - Br...</td>\n",
       "      <td>conservative</td>\n",
       "      <td>http://www.breitbart.com/big-government/2017/0...</td>\n",
       "      <td>breitbart.com</td>\n",
       "      <td>man_NOUN survive_VERB fall_PROPN off_ADP mount...</td>\n",
       "      <td>[42, 1252, 2481, 382, 5856]</td>\n",
       "      <td>0</td>\n",
       "    </tr>\n",
       "    <tr>\n",
       "      <th>3</th>\n",
       "      <td>GOP health-care bill would drop addiction trea...</td>\n",
       "      <td>liberal</td>\n",
       "      <td>https://www.washingtonpost.com/news/wonk/wp/20...</td>\n",
       "      <td>washingtonpost.com</td>\n",
       "      <td>gop_PROPN health_NOUN care_NOUN bill_NOUN woul...</td>\n",
       "      <td>[38, 62, 79, 71, 121, 303, 3848, 2291, 4847, 1...</td>\n",
       "      <td>1</td>\n",
       "    </tr>\n",
       "    <tr>\n",
       "      <th>4</th>\n",
       "      <td>Mansfield Timberview tops Corpus Christi Memor...</td>\n",
       "      <td>conservative</td>\n",
       "      <td>http://www.washingtontimes.com/news/2017/mar/9...</td>\n",
       "      <td>washingtontimes.com</td>\n",
       "      <td>mansfield_PROPN timberview_PROPN top_VERB corp...</td>\n",
       "      <td>[19105, 25480, 2780, 5108, 4961, 4154, 2, 9033]</td>\n",
       "      <td>0</td>\n",
       "    </tr>\n",
       "  </tbody>\n",
       "</table>\n",
       "</div>"
      ],
      "text/plain": [
       "                                               title         label  \\\n",
       "0  CNN/ORC Poll: Most Americans Want Washington C...  conservative   \n",
       "1  Marines' Nude Photo Scandal Goes Beyond That O...       liberal   \n",
       "2  Man Survives 1,500-Foot Fall off Mountain - Br...  conservative   \n",
       "3  GOP health-care bill would drop addiction trea...       liberal   \n",
       "4  Mansfield Timberview tops Corpus Christi Memor...  conservative   \n",
       "\n",
       "                                                 url               domain  \\\n",
       "0  http://www.newsmax.com/Politics/Americans-comp...          newsmax.com   \n",
       "1  http://www.huffingtonpost.com/entry/marines-nu...   huffingtonpost.com   \n",
       "2  http://www.breitbart.com/big-government/2017/0...        breitbart.com   \n",
       "3  https://www.washingtonpost.com/news/wonk/wp/20...   washingtonpost.com   \n",
       "4  http://www.washingtontimes.com/news/2017/mar/9...  washingtontimes.com   \n",
       "\n",
       "                                           tokenized  \\\n",
       "0  cnn_PROPN orc_PROPN poll_PROPN most_ADJ americ...   \n",
       "1  marines_PROPN nude_PROPN photo_PROPN scandal_N...   \n",
       "2  man_NOUN survive_VERB fall_PROPN off_ADP mount...   \n",
       "3  gop_PROPN health_NOUN care_NOUN bill_NOUN woul...   \n",
       "4  mansfield_PROPN timberview_PROPN top_VERB corp...   \n",
       "\n",
       "                                        encoded_text  encoded_label  \n",
       "0           [34, 3435, 986, 666, 187, 59, 122, 7407]              0  \n",
       "1  [1714, 7665, 2021, 399, 49, 2014, 107, 78, 484...              1  \n",
       "2                        [42, 1252, 2481, 382, 5856]              0  \n",
       "3  [38, 62, 79, 71, 121, 303, 3848, 2291, 4847, 1...              1  \n",
       "4    [19105, 25480, 2780, 5108, 4961, 4154, 2, 9033]              0  "
      ]
     },
     "execution_count": 30,
     "metadata": {},
     "output_type": "execute_result"
    }
   ],
   "source": [
    "# Encode the labels.\n",
    "\n",
    "df['encoded_label'] = LabelEncoder().fit_transform([x for x in df['label']])\n",
    "df.head()"
   ]
  },
  {
   "cell_type": "code",
   "execution_count": null,
   "metadata": {
    "collapsed": true
   },
   "outputs": [],
   "source": []
  },
  {
   "cell_type": "markdown",
   "metadata": {},
   "source": [
    "### Write the data"
   ]
  },
  {
   "cell_type": "code",
   "execution_count": 31,
   "metadata": {},
   "outputs": [
    {
     "name": "stdout",
     "output_type": "stream",
     "text": [
      "wrote to ../data/data-True-0.pkl\n",
      "CPU times: user 1.76 s, sys: 40 ms, total: 1.8 s\n",
      "Wall time: 1.81 s\n"
     ]
    }
   ],
   "source": [
    "%%time\n",
    "\n",
    "_ = utils.write_dataset('../data/data', df, keep_stops, min_sents, vocab_list, vocab_word2idx, vocab_idx2word)"
   ]
  },
  {
   "cell_type": "code",
   "execution_count": null,
   "metadata": {
    "collapsed": true
   },
   "outputs": [],
   "source": []
  }
 ],
 "metadata": {
  "kernelspec": {
   "display_name": "Python 2",
   "language": "python",
   "name": "python2"
  },
  "language_info": {
   "codemirror_mode": {
    "name": "ipython",
    "version": 2
   },
   "file_extension": ".py",
   "mimetype": "text/x-python",
   "name": "python",
   "nbconvert_exporter": "python",
   "pygments_lexer": "ipython2",
   "version": "2.7.12"
  }
 },
 "nbformat": 4,
 "nbformat_minor": 1
}
