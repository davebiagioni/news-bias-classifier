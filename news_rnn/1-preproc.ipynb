{
 "cells": [
  {
   "cell_type": "markdown",
   "metadata": {},
   "source": [
    "This notebook is used to preprocess the dataset for input into our ML models using spacy for tokenization, lemmatization, and PoS tagging."
   ]
  },
  {
   "cell_type": "code",
   "execution_count": 3,
   "metadata": {
    "collapsed": false
   },
   "outputs": [
    {
     "name": "stdout",
     "output_type": "stream",
     "text": [
      "The autoreload extension is already loaded. To reload it, use:\n",
      "  %reload_ext autoreload\n"
     ]
    }
   ],
   "source": [
    "from __future__ import unicode_literals, print_function\n",
    "\n",
    "import tld\n",
    "import spacy\n",
    "import pandas as pd\n",
    "import numpy as np\n",
    "from sklearn.preprocessing import LabelEncoder\n",
    "\n",
    "import utils\n",
    "\n",
    "spacy.load('en')\n",
    "\n",
    "%load_ext autoreload"
   ]
  },
  {
   "cell_type": "code",
   "execution_count": 13,
   "metadata": {
    "collapsed": true
   },
   "outputs": [],
   "source": [
    "%autoreload\n",
    "import utils"
   ]
  },
  {
   "cell_type": "markdown",
   "metadata": {},
   "source": [
    "### Pre-pre-processing\n",
    "Read and clean article text for the types of articles we care about, namely those Alchemy has labeled as political, and that we have labeled as either \"conservative\" or \"liberal\".  We'll also extract top-level domain for later.  The output here is a pandas dataframe."
   ]
  },
  {
   "cell_type": "code",
   "execution_count": 4,
   "metadata": {
    "collapsed": false
   },
   "outputs": [
    {
     "name": "stdout",
     "output_type": "stream",
     "text": [
      "Number of articles: 67292\n"
     ]
    }
   ],
   "source": [
    "# Read data, excluding satirical because there are too few samples.\n",
    "\n",
    "datadir = '../../news-crawler/data/articles/'\n",
    "files = utils.get_file_list(datadir, exclude_regex='.*satirical')\n",
    "\n",
    "print('Number of articles: {}'.format(len(files)))"
   ]
  },
  {
   "cell_type": "code",
   "execution_count": 5,
   "metadata": {
    "collapsed": false,
    "scrolled": false
   },
   "outputs": [
    {
     "name": "stdout",
     "output_type": "stream",
     "text": [
      "(67292, 3)\n",
      "CPU times: user 231 ms, sys: 89.2 ms, total: 320 ms\n",
      "Wall time: 51 s\n"
     ]
    }
   ],
   "source": [
    "%%time\n",
    "\n",
    "# Use multiprocessing to pre-pre-process.\n",
    "\n",
    "df = utils.create_dataframe(files)\n",
    "print(df.shape)"
   ]
  },
  {
   "cell_type": "code",
   "execution_count": 6,
   "metadata": {
    "collapsed": false
   },
   "outputs": [
    {
     "data": {
      "text/html": [
       "<div>\n",
       "<table border=\"1\" class=\"dataframe\">\n",
       "  <thead>\n",
       "    <tr style=\"text-align: right;\">\n",
       "      <th></th>\n",
       "      <th>title</th>\n",
       "      <th>label</th>\n",
       "      <th>url</th>\n",
       "    </tr>\n",
       "  </thead>\n",
       "  <tbody>\n",
       "    <tr>\n",
       "      <th>0</th>\n",
       "      <td>COMMENTARY: Restoring Freedom: Now or Never (A...</td>\n",
       "      <td>conservative</td>\n",
       "      <td>http://dailysurge.com/2016/12/commentary-resto...</td>\n",
       "    </tr>\n",
       "    <tr>\n",
       "      <th>1</th>\n",
       "      <td>COMMENTARY: Welcoming Back the American Dream ...</td>\n",
       "      <td>conservative</td>\n",
       "      <td>http://dailysurge.com/2016/12/commentary-welco...</td>\n",
       "    </tr>\n",
       "    <tr>\n",
       "      <th>2</th>\n",
       "      <td>COMMENTARY: The 28th Amendment » DailySurge</td>\n",
       "      <td>conservative</td>\n",
       "      <td>http://dailysurge.com/2016/11/commentary-28th-...</td>\n",
       "    </tr>\n",
       "    <tr>\n",
       "      <th>3</th>\n",
       "      <td>COMMENTARY: A Return to the Rule of Law » Dail...</td>\n",
       "      <td>conservative</td>\n",
       "      <td>http://dailysurge.com/2016/11/commentary-retur...</td>\n",
       "    </tr>\n",
       "    <tr>\n",
       "      <th>4</th>\n",
       "      <td>COMMENTARY: When Is Trump Going to the Toilet ...</td>\n",
       "      <td>conservative</td>\n",
       "      <td>http://dailysurge.com/2016/11/commentary-trump...</td>\n",
       "    </tr>\n",
       "  </tbody>\n",
       "</table>\n",
       "</div>"
      ],
      "text/plain": [
       "                                               title         label  \\\n",
       "0  COMMENTARY: Restoring Freedom: Now or Never (A...  conservative   \n",
       "1  COMMENTARY: Welcoming Back the American Dream ...  conservative   \n",
       "2        COMMENTARY: The 28th Amendment » DailySurge  conservative   \n",
       "3  COMMENTARY: A Return to the Rule of Law » Dail...  conservative   \n",
       "4  COMMENTARY: When Is Trump Going to the Toilet ...  conservative   \n",
       "\n",
       "                                                 url  \n",
       "0  http://dailysurge.com/2016/12/commentary-resto...  \n",
       "1  http://dailysurge.com/2016/12/commentary-welco...  \n",
       "2  http://dailysurge.com/2016/11/commentary-28th-...  \n",
       "3  http://dailysurge.com/2016/11/commentary-retur...  \n",
       "4  http://dailysurge.com/2016/11/commentary-trump...  "
      ]
     },
     "execution_count": 6,
     "metadata": {},
     "output_type": "execute_result"
    }
   ],
   "source": [
    "# Take a peek!\n",
    "\n",
    "df.head()"
   ]
  },
  {
   "cell_type": "code",
   "execution_count": 7,
   "metadata": {
    "collapsed": false
   },
   "outputs": [
    {
     "data": {
      "text/html": [
       "<div>\n",
       "<table border=\"1\" class=\"dataframe\">\n",
       "  <thead>\n",
       "    <tr style=\"text-align: right;\">\n",
       "      <th></th>\n",
       "      <th>title</th>\n",
       "      <th>label</th>\n",
       "      <th>url</th>\n",
       "      <th>domain</th>\n",
       "    </tr>\n",
       "  </thead>\n",
       "  <tbody>\n",
       "    <tr>\n",
       "      <th>0</th>\n",
       "      <td>COMMENTARY: Restoring Freedom: Now or Never (A...</td>\n",
       "      <td>conservative</td>\n",
       "      <td>http://dailysurge.com/2016/12/commentary-resto...</td>\n",
       "      <td>dailysurge.com</td>\n",
       "    </tr>\n",
       "    <tr>\n",
       "      <th>1</th>\n",
       "      <td>COMMENTARY: Welcoming Back the American Dream ...</td>\n",
       "      <td>conservative</td>\n",
       "      <td>http://dailysurge.com/2016/12/commentary-welco...</td>\n",
       "      <td>dailysurge.com</td>\n",
       "    </tr>\n",
       "    <tr>\n",
       "      <th>2</th>\n",
       "      <td>COMMENTARY: The 28th Amendment » DailySurge</td>\n",
       "      <td>conservative</td>\n",
       "      <td>http://dailysurge.com/2016/11/commentary-28th-...</td>\n",
       "      <td>dailysurge.com</td>\n",
       "    </tr>\n",
       "    <tr>\n",
       "      <th>3</th>\n",
       "      <td>COMMENTARY: A Return to the Rule of Law » Dail...</td>\n",
       "      <td>conservative</td>\n",
       "      <td>http://dailysurge.com/2016/11/commentary-retur...</td>\n",
       "      <td>dailysurge.com</td>\n",
       "    </tr>\n",
       "    <tr>\n",
       "      <th>4</th>\n",
       "      <td>COMMENTARY: When Is Trump Going to the Toilet ...</td>\n",
       "      <td>conservative</td>\n",
       "      <td>http://dailysurge.com/2016/11/commentary-trump...</td>\n",
       "      <td>dailysurge.com</td>\n",
       "    </tr>\n",
       "  </tbody>\n",
       "</table>\n",
       "</div>"
      ],
      "text/plain": [
       "                                               title         label  \\\n",
       "0  COMMENTARY: Restoring Freedom: Now or Never (A...  conservative   \n",
       "1  COMMENTARY: Welcoming Back the American Dream ...  conservative   \n",
       "2        COMMENTARY: The 28th Amendment » DailySurge  conservative   \n",
       "3  COMMENTARY: A Return to the Rule of Law » Dail...  conservative   \n",
       "4  COMMENTARY: When Is Trump Going to the Toilet ...  conservative   \n",
       "\n",
       "                                                 url          domain  \n",
       "0  http://dailysurge.com/2016/12/commentary-resto...  dailysurge.com  \n",
       "1  http://dailysurge.com/2016/12/commentary-welco...  dailysurge.com  \n",
       "2  http://dailysurge.com/2016/11/commentary-28th-...  dailysurge.com  \n",
       "3  http://dailysurge.com/2016/11/commentary-retur...  dailysurge.com  \n",
       "4  http://dailysurge.com/2016/11/commentary-trump...  dailysurge.com  "
      ]
     },
     "execution_count": 7,
     "metadata": {},
     "output_type": "execute_result"
    }
   ],
   "source": [
    "# Extract top-level domain for later.\n",
    "\n",
    "df['domain'] = df['url'].map(tld.get_tld)\n",
    "df.head()"
   ]
  },
  {
   "cell_type": "code",
   "execution_count": 8,
   "metadata": {
    "collapsed": true
   },
   "outputs": [],
   "source": [
    "df.to_pickle('../data/titles.pkl')"
   ]
  },
  {
   "cell_type": "markdown",
   "metadata": {},
   "source": [
    "### Pre-processing using spacy NLP\n",
    "\n",
    "__Lemmatize the text and tag words with their part of speech.__"
   ]
  },
  {
   "cell_type": "code",
   "execution_count": 9,
   "metadata": {
    "collapsed": false
   },
   "outputs": [
    {
     "data": {
      "text/plain": [
       "(67292, 4)"
      ]
     },
     "execution_count": 9,
     "metadata": {},
     "output_type": "execute_result"
    }
   ],
   "source": [
    "df = pd.read_pickle('../data/titles.pkl')\n",
    "df.shape"
   ]
  },
  {
   "cell_type": "code",
   "execution_count": 13,
   "metadata": {
    "collapsed": true
   },
   "outputs": [],
   "source": [
    "# We'll keep article if it has at least min_sents sentences.\n",
    "min_sents = 0     \n",
    "\n",
    "# Whether to exclude stopwords.\n",
    "keep_stops = True"
   ]
  },
  {
   "cell_type": "code",
   "execution_count": 14,
   "metadata": {
    "collapsed": false
   },
   "outputs": [
    {
     "data": {
      "text/html": [
       "<div>\n",
       "<table border=\"1\" class=\"dataframe\">\n",
       "  <thead>\n",
       "    <tr style=\"text-align: right;\">\n",
       "      <th></th>\n",
       "      <th>title</th>\n",
       "      <th>label</th>\n",
       "      <th>url</th>\n",
       "      <th>domain</th>\n",
       "    </tr>\n",
       "  </thead>\n",
       "  <tbody>\n",
       "    <tr>\n",
       "      <th>0</th>\n",
       "      <td>COMMENTARY: Restoring Freedom: Now or Never (A...</td>\n",
       "      <td>conservative</td>\n",
       "      <td>http://dailysurge.com/2016/12/commentary-resto...</td>\n",
       "      <td>dailysurge.com</td>\n",
       "    </tr>\n",
       "    <tr>\n",
       "      <th>1</th>\n",
       "      <td>COMMENTARY: Welcoming Back the American Dream ...</td>\n",
       "      <td>conservative</td>\n",
       "      <td>http://dailysurge.com/2016/12/commentary-welco...</td>\n",
       "      <td>dailysurge.com</td>\n",
       "    </tr>\n",
       "    <tr>\n",
       "      <th>2</th>\n",
       "      <td>COMMENTARY: The 28th Amendment » DailySurge</td>\n",
       "      <td>conservative</td>\n",
       "      <td>http://dailysurge.com/2016/11/commentary-28th-...</td>\n",
       "      <td>dailysurge.com</td>\n",
       "    </tr>\n",
       "    <tr>\n",
       "      <th>3</th>\n",
       "      <td>COMMENTARY: A Return to the Rule of Law » Dail...</td>\n",
       "      <td>conservative</td>\n",
       "      <td>http://dailysurge.com/2016/11/commentary-retur...</td>\n",
       "      <td>dailysurge.com</td>\n",
       "    </tr>\n",
       "    <tr>\n",
       "      <th>4</th>\n",
       "      <td>COMMENTARY: When Is Trump Going to the Toilet ...</td>\n",
       "      <td>conservative</td>\n",
       "      <td>http://dailysurge.com/2016/11/commentary-trump...</td>\n",
       "      <td>dailysurge.com</td>\n",
       "    </tr>\n",
       "  </tbody>\n",
       "</table>\n",
       "</div>"
      ],
      "text/plain": [
       "                                               title         label  \\\n",
       "0  COMMENTARY: Restoring Freedom: Now or Never (A...  conservative   \n",
       "1  COMMENTARY: Welcoming Back the American Dream ...  conservative   \n",
       "2        COMMENTARY: The 28th Amendment » DailySurge  conservative   \n",
       "3  COMMENTARY: A Return to the Rule of Law » Dail...  conservative   \n",
       "4  COMMENTARY: When Is Trump Going to the Toilet ...  conservative   \n",
       "\n",
       "                                                 url          domain  \n",
       "0  http://dailysurge.com/2016/12/commentary-resto...  dailysurge.com  \n",
       "1  http://dailysurge.com/2016/12/commentary-welco...  dailysurge.com  \n",
       "2  http://dailysurge.com/2016/11/commentary-28th-...  dailysurge.com  \n",
       "3  http://dailysurge.com/2016/11/commentary-retur...  dailysurge.com  \n",
       "4  http://dailysurge.com/2016/11/commentary-trump...  dailysurge.com  "
      ]
     },
     "execution_count": 14,
     "metadata": {},
     "output_type": "execute_result"
    }
   ],
   "source": [
    "df.head()"
   ]
  },
  {
   "cell_type": "code",
   "execution_count": 15,
   "metadata": {
    "collapsed": false,
    "scrolled": false
   },
   "outputs": [
    {
     "name": "stdout",
     "output_type": "stream",
     "text": [
      "cnn.com,7610,\n",
      "usatoday.com,4817,\n",
      "cbsnews.com,4576,\n",
      "go.com,4393,Video:\n",
      "go.com,4393,\n",
      "washingtonpost.com,4030,\n",
      "breitbart.com,3740,- Breitbart\n",
      "breitbart.com,3740,\n",
      "nytimes.com,3711,\n",
      "cnbc.com,3185,\n",
      "newsmax.com,2530,\n",
      "foxnews.com,2436,\n",
      "rightwingnews.com,2356,| John Hawkins' Right Wing News\n",
      "rightwingnews.com,2356,\n",
      "washingtonexaminer.com,2040,\n",
      "realclearpolitics.com,2002,| RealClearPolitics\n",
      "realclearpolitics.com,2002,\n",
      "westernjournalism.com,1960,Just\n",
      "westernjournalism.com,1960,Trump\n",
      "westernjournalism.com,1960,\n",
      "washingtontimes.com,1712,\n",
      "dailywire.com,1537,\n",
      "weeklystandard.com,1496,\n",
      "reuters.com,1463,\n",
      "theatlantic.com,1259,\n",
      "huffingtonpost.com,1215,\n",
      "nypost.com,1144,\n",
      "ijr.com,856,to\n",
      "ijr.com,856,\n",
      "ap.org,841,Associated Press\n",
      "ap.org,841,\n",
      "ap.org,841,\n",
      "ap.org,841,\n",
      "ap.org,841,\n",
      "ap.org,841,\n",
      "ap.org,841,\n",
      "thehill.com,812,\n",
      "newsbusters.org,772,\n",
      "twitchy.com,771,\n",
      "freebeacon.com,749,\n",
      "americanthinker.com,742,Articles:\n",
      "americanthinker.com,742,\n",
      "slate.com,673,the\n",
      "slate.com,673,\n",
      "wsj.com,637,\n",
      "motherjones.com,490,\n",
      "cbslocal.com,109,\n",
      "bleacherreport.com,88,\n",
      "dailysurge.com,72,» DailySurge\n",
      "dailysurge.com,72,COMMENTARY:\n",
      "dailysurge.com,72,the\n",
      "dailysurge.com,72,\n",
      "rushlimbaugh.com,65,- The Rush Limbaugh Show\n",
      "rushlimbaugh.com,65,\n",
      "CPU times: user 15.5 s, sys: 224 ms, total: 15.7 s\n",
      "Wall time: 15.7 s\n"
     ]
    }
   ],
   "source": [
    "%%time\n",
    "\n",
    "# Remove domain identifiers from the text.\n",
    "\n",
    "df = utils.remove_hints(df)"
   ]
  },
  {
   "cell_type": "code",
   "execution_count": 16,
   "metadata": {
    "collapsed": false
   },
   "outputs": [
    {
     "data": {
      "text/plain": [
       "(66046, 5)"
      ]
     },
     "execution_count": 16,
     "metadata": {},
     "output_type": "execute_result"
    }
   ],
   "source": [
    "# Some of the articles are empty, let's remove them.\n",
    "\n",
    "df = df.drop(df.index[np.where((df['tokenized'] == '') | (df['tokenized'].isnull()))[0]])\n",
    "df.index = range(df.shape[0])  # Need to re-index again.\n",
    "df.shape"
   ]
  },
  {
   "cell_type": "code",
   "execution_count": 17,
   "metadata": {
    "collapsed": false
   },
   "outputs": [
    {
     "name": "stdout",
     "output_type": "stream",
     "text": [
      "processing 66046 docs\n",
      "CPU times: user 177 ms, sys: 50 ms, total: 227 ms\n",
      "Wall time: 9.25 s\n"
     ]
    }
   ],
   "source": [
    "%%time\n",
    "\n",
    "# Tokenize the text.\n",
    "\n",
    "df['tokenized'] = utils.parse_docs(list(df['tokenized']), keep_stops, min_sents)"
   ]
  },
  {
   "cell_type": "markdown",
   "metadata": {},
   "source": [
    "__Next let's encode the entire corpus into some vocab data structures.__"
   ]
  },
  {
   "cell_type": "code",
   "execution_count": 24,
   "metadata": {
    "collapsed": false
   },
   "outputs": [
    {
     "name": "stdout",
     "output_type": "stream",
     "text": [
      "dictionary size: 34414\n",
      "CPU times: user 510 ms, sys: 11.5 ms, total: 521 ms\n",
      "Wall time: 515 ms\n"
     ]
    }
   ],
   "source": [
    "%%time\n",
    "\n",
    "# Extract the vocabulary and related data structures for encoding/decoding the corpus.\n",
    "\n",
    "vocab_list, vocab_word2idx, vocab_idx2word = utils.create_vocab(df['tokenized'].tolist())"
   ]
  },
  {
   "cell_type": "code",
   "execution_count": 25,
   "metadata": {
    "collapsed": false
   },
   "outputs": [
    {
     "data": {
      "text/plain": [
       "[(u'trump_PROPN', 17496),\n",
       " (u'the_DET', 12820),\n",
       " (u'in_ADP', 12107),\n",
       " (u'of_ADP', 10150),\n",
       " (u'to_PART', 9985),\n",
       " (u'be_VERB', 9851),\n",
       " (u'-PRON-_PRON', 9181),\n",
       " (u'for_ADP', 8150),\n",
       " (u'on_ADP', 7357),\n",
       " (u'a_DET', 7116)]"
      ]
     },
     "execution_count": 25,
     "metadata": {},
     "output_type": "execute_result"
    }
   ],
   "source": [
    "# Check out the top 10 words\n",
    "\n",
    "vocab_list[:10]"
   ]
  },
  {
   "cell_type": "code",
   "execution_count": 26,
   "metadata": {
    "collapsed": false
   },
   "outputs": [
    {
     "name": "stdout",
     "output_type": "stream",
     "text": [
      "CPU times: user 278 ms, sys: 30.2 ms, total: 308 ms\n",
      "Wall time: 300 ms\n"
     ]
    }
   ],
   "source": [
    "%%time\n",
    "\n",
    "# Encode the corpus.\n",
    "\n",
    "df['encoded_text'] = df['tokenized'].map(lambda x: [vocab_word2idx[y] for y in x.split()])"
   ]
  },
  {
   "cell_type": "code",
   "execution_count": 27,
   "metadata": {
    "collapsed": false
   },
   "outputs": [
    {
     "data": {
      "text/html": [
       "<div>\n",
       "<table border=\"1\" class=\"dataframe\">\n",
       "  <thead>\n",
       "    <tr style=\"text-align: right;\">\n",
       "      <th></th>\n",
       "      <th>title</th>\n",
       "      <th>label</th>\n",
       "      <th>url</th>\n",
       "      <th>domain</th>\n",
       "      <th>tokenized</th>\n",
       "      <th>encoded_text</th>\n",
       "      <th>encoded_label</th>\n",
       "    </tr>\n",
       "  </thead>\n",
       "  <tbody>\n",
       "    <tr>\n",
       "      <th>0</th>\n",
       "      <td>COMMENTARY: Restoring Freedom: Now or Never (A...</td>\n",
       "      <td>conservative</td>\n",
       "      <td>http://dailysurge.com/2016/12/commentary-resto...</td>\n",
       "      <td>dailysurge.com</td>\n",
       "      <td>restoring_PROPN freedom_NOUN now_ADV or_CCONJ ...</td>\n",
       "      <td>[20507, 1536, 103, 165, 393, 11, 35, 4, 22, 6]</td>\n",
       "      <td>0</td>\n",
       "    </tr>\n",
       "    <tr>\n",
       "      <th>1</th>\n",
       "      <td>COMMENTARY: Welcoming Back the American Dream ...</td>\n",
       "      <td>conservative</td>\n",
       "      <td>http://dailysurge.com/2016/12/commentary-welco...</td>\n",
       "      <td>dailysurge.com</td>\n",
       "      <td>welcome_VERB back_ADV american_ADJ dream_PROPN</td>\n",
       "      <td>[1359, 86, 228, 3031]</td>\n",
       "      <td>0</td>\n",
       "    </tr>\n",
       "    <tr>\n",
       "      <th>2</th>\n",
       "      <td>COMMENTARY: The 28th Amendment » DailySurge</td>\n",
       "      <td>conservative</td>\n",
       "      <td>http://dailysurge.com/2016/11/commentary-28th-...</td>\n",
       "      <td>dailysurge.com</td>\n",
       "      <td>the_DET amendment_PROPN</td>\n",
       "      <td>[1, 2866]</td>\n",
       "      <td>0</td>\n",
       "    </tr>\n",
       "    <tr>\n",
       "      <th>3</th>\n",
       "      <td>COMMENTARY: A Return to the Rule of Law » Dail...</td>\n",
       "      <td>conservative</td>\n",
       "      <td>http://dailysurge.com/2016/11/commentary-retur...</td>\n",
       "      <td>dailysurge.com</td>\n",
       "      <td>a_DET return_NOUN to_ADP rule_PROPN of_ADP law...</td>\n",
       "      <td>[9, 553, 10, 2106, 3, 400]</td>\n",
       "      <td>0</td>\n",
       "    </tr>\n",
       "    <tr>\n",
       "      <th>4</th>\n",
       "      <td>COMMENTARY: When Is Trump Going to the Toilet ...</td>\n",
       "      <td>conservative</td>\n",
       "      <td>http://dailysurge.com/2016/11/commentary-trump...</td>\n",
       "      <td>dailysurge.com</td>\n",
       "      <td>when_ADV be_VERB trump_PROPN go_VERB to_ADP to...</td>\n",
       "      <td>[129, 5, 0, 49, 10, 6509, 11, 165, 149, 10886]</td>\n",
       "      <td>0</td>\n",
       "    </tr>\n",
       "  </tbody>\n",
       "</table>\n",
       "</div>"
      ],
      "text/plain": [
       "                                               title         label  \\\n",
       "0  COMMENTARY: Restoring Freedom: Now or Never (A...  conservative   \n",
       "1  COMMENTARY: Welcoming Back the American Dream ...  conservative   \n",
       "2        COMMENTARY: The 28th Amendment » DailySurge  conservative   \n",
       "3  COMMENTARY: A Return to the Rule of Law » Dail...  conservative   \n",
       "4  COMMENTARY: When Is Trump Going to the Toilet ...  conservative   \n",
       "\n",
       "                                                 url          domain  \\\n",
       "0  http://dailysurge.com/2016/12/commentary-resto...  dailysurge.com   \n",
       "1  http://dailysurge.com/2016/12/commentary-welco...  dailysurge.com   \n",
       "2  http://dailysurge.com/2016/11/commentary-28th-...  dailysurge.com   \n",
       "3  http://dailysurge.com/2016/11/commentary-retur...  dailysurge.com   \n",
       "4  http://dailysurge.com/2016/11/commentary-trump...  dailysurge.com   \n",
       "\n",
       "                                           tokenized  \\\n",
       "0  restoring_PROPN freedom_NOUN now_ADV or_CCONJ ...   \n",
       "1     welcome_VERB back_ADV american_ADJ dream_PROPN   \n",
       "2                            the_DET amendment_PROPN   \n",
       "3  a_DET return_NOUN to_ADP rule_PROPN of_ADP law...   \n",
       "4  when_ADV be_VERB trump_PROPN go_VERB to_ADP to...   \n",
       "\n",
       "                                     encoded_text  encoded_label  \n",
       "0  [20507, 1536, 103, 165, 393, 11, 35, 4, 22, 6]              0  \n",
       "1                           [1359, 86, 228, 3031]              0  \n",
       "2                                       [1, 2866]              0  \n",
       "3                      [9, 553, 10, 2106, 3, 400]              0  \n",
       "4  [129, 5, 0, 49, 10, 6509, 11, 165, 149, 10886]              0  "
      ]
     },
     "execution_count": 27,
     "metadata": {},
     "output_type": "execute_result"
    }
   ],
   "source": [
    "# Encode the labels.\n",
    "\n",
    "df['encoded_label'] = LabelEncoder().fit_transform([x for x in df['label']])\n",
    "df.head()"
   ]
  },
  {
   "cell_type": "code",
   "execution_count": null,
   "metadata": {
    "collapsed": true
   },
   "outputs": [],
   "source": []
  },
  {
   "cell_type": "markdown",
   "metadata": {},
   "source": [
    "### Write the data"
   ]
  },
  {
   "cell_type": "code",
   "execution_count": 28,
   "metadata": {
    "collapsed": false
   },
   "outputs": [
    {
     "name": "stdout",
     "output_type": "stream",
     "text": [
      "wrote to ../data/data-True-0.pkl\n",
      "CPU times: user 3.48 s, sys: 89.5 ms, total: 3.57 s\n",
      "Wall time: 3.58 s\n"
     ]
    }
   ],
   "source": [
    "%%time\n",
    "\n",
    "_ = utils.write_dataset('../data/data', df, keep_stops, min_sents, vocab_list, vocab_word2idx, vocab_idx2word)"
   ]
  },
  {
   "cell_type": "code",
   "execution_count": null,
   "metadata": {
    "collapsed": true
   },
   "outputs": [],
   "source": []
  }
 ],
 "metadata": {
  "kernelspec": {
   "display_name": "Python 2",
   "language": "python",
   "name": "python2"
  },
  "language_info": {
   "codemirror_mode": {
    "name": "ipython",
    "version": 2
   },
   "file_extension": ".py",
   "mimetype": "text/x-python",
   "name": "python",
   "nbconvert_exporter": "python",
   "pygments_lexer": "ipython2",
   "version": "2.7.13"
  }
 },
 "nbformat": 4,
 "nbformat_minor": 1
}
