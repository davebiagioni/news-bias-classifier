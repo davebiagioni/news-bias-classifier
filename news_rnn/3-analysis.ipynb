{
 "cells": [
  {
   "cell_type": "markdown",
   "metadata": {},
   "source": [
    "In this notebook we'll explore the solution found by our classifier."
   ]
  },
  {
   "cell_type": "code",
   "execution_count": 1,
   "metadata": {
    "collapsed": false
   },
   "outputs": [
    {
     "name": "stderr",
     "output_type": "stream",
     "text": [
      "Using TensorFlow backend.\n",
      "/Users/davidbiagioni/anaconda/lib/python2.7/site-packages/pandas/computation/__init__.py:19: UserWarning: The installed version of numexpr 2.4.4 is not supported in pandas and will be not be used\n",
      "\n",
      "  UserWarning)\n"
     ]
    }
   ],
   "source": [
    "import keras\n",
    "import pandas as pd\n",
    "import numpy as np\n",
    "import matplotlib.pyplot as plt\n",
    "import seaborn as sn\n",
    "import pickle\n",
    "\n",
    "from keras.preprocessing.sequence import pad_sequences\n",
    "from keras.models import load_model\n",
    "\n",
    "import utils\n",
    "\n",
    "%load_ext autoreload\n",
    "%matplotlib inline"
   ]
  },
  {
   "cell_type": "code",
   "execution_count": 2,
   "metadata": {
    "collapsed": false
   },
   "outputs": [],
   "source": [
    "%autoreload\n",
    "import utils"
   ]
  },
  {
   "cell_type": "markdown",
   "metadata": {},
   "source": [
    "### Re-create the training data using saved model params"
   ]
  },
  {
   "cell_type": "code",
   "execution_count": 3,
   "metadata": {
    "collapsed": false
   },
   "outputs": [],
   "source": [
    "# Pick a model to load and extract the hyperparams.\n",
    "\n",
    "model_name = 'models/64_64_32_0.1_False_200_10000_0.1_64_002_0.20667_0.81852.h5'\n",
    "\n",
    "gru_dim, embed_dim, dense_dim, dropout, bidirectional, maxlen, topn, test_size, batch_size = \\\n",
    "  utils.parse_model_name(model_name)\n",
    "  \n",
    "# Load the keras model\n",
    "model = load_model(model_name)"
   ]
  },
  {
   "cell_type": "code",
   "execution_count": 4,
   "metadata": {
    "collapsed": false
   },
   "outputs": [
    {
     "name": "stdout",
     "output_type": "stream",
     "text": [
      "CPU times: user 31 s, sys: 620 ms, total: 31.6 s\n",
      "Wall time: 31.7 s\n"
     ]
    }
   ],
   "source": [
    "%%time\n",
    "\n",
    "# Load the source data frame\n",
    "\n",
    "filepath = '../data/data-False-3.pkl'\n",
    "df, keep_stops, min_sents, vocab, w2i, i2w = utils.read_dataset(filepath)"
   ]
  },
  {
   "cell_type": "code",
   "execution_count": 5,
   "metadata": {
    "collapsed": false
   },
   "outputs": [
    {
     "name": "stdout",
     "output_type": "stream",
     "text": [
      "CPU times: user 1.64 s, sys: 50.7 ms, total: 1.69 s\n",
      "Wall time: 1.69 s\n"
     ]
    }
   ],
   "source": [
    "%%time\n",
    "\n",
    "# Filter out uncommon words using parameters parsed from model name.\n",
    "\n",
    "df['encoded_text'] = utils.filter_top_words(list(df['encoded_text']), topn)"
   ]
  },
  {
   "cell_type": "code",
   "execution_count": 6,
   "metadata": {
    "collapsed": false
   },
   "outputs": [],
   "source": [
    "# Create input/output data\n",
    "\n",
    "X = pad_sequences(df['encoded_text'], maxlen=maxlen, value=topn, \n",
    "                  padding='post', truncating='post')\n",
    "\n",
    "Y = df['encoded_label'].tolist()"
   ]
  },
  {
   "cell_type": "markdown",
   "metadata": {
    "collapsed": false
   },
   "source": [
    "### High-level view of data"
   ]
  },
  {
   "cell_type": "code",
   "execution_count": 67,
   "metadata": {
    "collapsed": false
   },
   "outputs": [],
   "source": [
    "counts = df['domain'].value_counts()[:30]\n",
    "freq =  1. * counts / df.shape[0]\n",
    "summary = pd.concat([counts, freq], axis=1)\n",
    "summary.columns = ['Num articles', 'Relative Frequency']\n",
    "\n",
    "labels = []\n",
    "for idx in summary.index:\n",
    "  summary.ix[idx, 'Label'] = df[df['domain'] == idx]['label'].iloc[0]\n",
    "\n",
    "summary.to_csv('/Users/davidbiagioni/Desktop/data.csv')"
   ]
  },
  {
   "cell_type": "code",
   "execution_count": null,
   "metadata": {
    "collapsed": true
   },
   "outputs": [],
   "source": []
  },
  {
   "cell_type": "code",
   "execution_count": null,
   "metadata": {
    "collapsed": true
   },
   "outputs": [],
   "source": []
  },
  {
   "cell_type": "code",
   "execution_count": null,
   "metadata": {
    "collapsed": true
   },
   "outputs": [],
   "source": []
  },
  {
   "cell_type": "code",
   "execution_count": 7,
   "metadata": {
    "collapsed": false
   },
   "outputs": [],
   "source": [
    "# Get output probabilities for every observation.\n",
    "\n",
    "df['prob'] = model.predict(X)"
   ]
  },
  {
   "cell_type": "code",
   "execution_count": 16,
   "metadata": {
    "collapsed": false
   },
   "outputs": [
    {
     "data": {
      "image/png": "[encoded data removed]",
      "text/plain": [
       "<matplotlib.figure.Figure at 0x12e8e8390>"
      ]
     },
     "metadata": {},
     "output_type": "display_data"
    }
   ],
   "source": [
    "# Look at distribution.  There are some funny extreme modes we should try to understand.\n",
    "\n",
    "fig, ax = plt.subplots()\n",
    "ax.set_xlabel('Predicted class probability')\n",
    "ax = df['prob'].hist(bins=100, figsize=(12, 8), ax=ax)\n",
    "ax = ax.set_title('Distribution of class probabilities')"
   ]
  },
  {
   "cell_type": "code",
   "execution_count": 24,
   "metadata": {
    "collapsed": false
   },
   "outputs": [
    {
     "data": {
      "text/plain": [
       "[(0.2980392156862745, 0.4470588235294118, 0.6901960784313725),\n",
       " (0.3333333333333333, 0.6588235294117647, 0.40784313725490196),\n",
       " (0.7686274509803922, 0.3058823529411765, 0.3215686274509804),\n",
       " (0.5058823529411764, 0.4470588235294118, 0.6980392156862745),\n",
       " (0.8, 0.7254901960784313, 0.4549019607843137),\n",
       " (0.39215686274509803, 0.7098039215686275, 0.803921568627451)]"
      ]
     },
     "execution_count": 24,
     "metadata": {},
     "output_type": "execute_result"
    }
   ],
   "source": [
    "sn.color_palette()[1]"
   ]
  },
  {
   "cell_type": "code",
   "execution_count": 39,
   "metadata": {
    "collapsed": false
   },
   "outputs": [
    {
     "data": {
      "image/png": "[encoded data removed]",
      "text/plain": [
       "<matplotlib.figure.Figure at 0x128fef9d0>"
      ]
     },
     "metadata": {},
     "output_type": "display_data"
    }
   ],
   "source": [
    "# Groupby domain name and take the average probability.  We can then round to 0/1 to \n",
    "# get a domain-level classification.\n",
    "\n",
    "drop_less_than = 10  # Drop domains with fewer than this many observations\n",
    "\n",
    "df_mean = df.groupby('domain')['encoded_label', 'prob'].mean()\n",
    "df_count = df.groupby('domain')['domain'].count()\n",
    "df_stats = pd.concat([df_mean, df_count], axis=1).sort_values('prob')\n",
    "df_stats['num_correct'] = df_stats.apply(lambda x: int(np.round(x['prob'])) == x['encoded_label'], axis=1)\n",
    "df_stats = df_stats[df_stats['domain'] >= drop_less_than]\n",
    "\n",
    "colors = {0: sn.color_palette()[0], 1: sn.color_palette()[1]}\n",
    "\n",
    "ax = df_stats['prob'].plot(kind='barh', figsize=(12, 10), color=[colors[i] for i in df_stats['encoded_label']])\n",
    "\n",
    "ax = ax.axes.vlines(0.5, -19, 100, alpha=.2)"
   ]
  },
  {
   "cell_type": "code",
   "execution_count": 22,
   "metadata": {
    "collapsed": false
   },
   "outputs": [
    {
     "data": {
      "text/html": [
       "<div>\n",
       "<table border=\"1\" class=\"dataframe\">\n",
       "  <thead>\n",
       "    <tr style=\"text-align: right;\">\n",
       "      <th></th>\n",
       "      <th>encoded_label</th>\n",
       "      <th>prob</th>\n",
       "      <th>domain</th>\n",
       "      <th>num_correct</th>\n",
       "    </tr>\n",
       "    <tr>\n",
       "      <th>domain</th>\n",
       "      <th></th>\n",
       "      <th></th>\n",
       "      <th></th>\n",
       "      <th></th>\n",
       "    </tr>\n",
       "  </thead>\n",
       "  <tbody>\n",
       "    <tr>\n",
       "      <th>westernjournalism.com</th>\n",
       "      <td>0</td>\n",
       "      <td>0.011371</td>\n",
       "      <td>1386</td>\n",
       "      <td>True</td>\n",
       "    </tr>\n",
       "    <tr>\n",
       "      <th>freebeacon.com</th>\n",
       "      <td>0</td>\n",
       "      <td>0.124865</td>\n",
       "      <td>541</td>\n",
       "      <td>True</td>\n",
       "    </tr>\n",
       "    <tr>\n",
       "      <th>twitchy.com</th>\n",
       "      <td>0</td>\n",
       "      <td>0.125950</td>\n",
       "      <td>416</td>\n",
       "      <td>True</td>\n",
       "    </tr>\n",
       "    <tr>\n",
       "      <th>rushlimbaugh.com</th>\n",
       "      <td>0</td>\n",
       "      <td>0.137237</td>\n",
       "      <td>18</td>\n",
       "      <td>True</td>\n",
       "    </tr>\n",
       "    <tr>\n",
       "      <th>washingtontimes.com</th>\n",
       "      <td>0</td>\n",
       "      <td>0.145994</td>\n",
       "      <td>1114</td>\n",
       "      <td>True</td>\n",
       "    </tr>\n",
       "    <tr>\n",
       "      <th>newsbusters.org</th>\n",
       "      <td>0</td>\n",
       "      <td>0.151458</td>\n",
       "      <td>438</td>\n",
       "      <td>True</td>\n",
       "    </tr>\n",
       "    <tr>\n",
       "      <th>rightwingnews.com</th>\n",
       "      <td>0</td>\n",
       "      <td>0.177178</td>\n",
       "      <td>1617</td>\n",
       "      <td>True</td>\n",
       "    </tr>\n",
       "    <tr>\n",
       "      <th>washingtonexaminer.com</th>\n",
       "      <td>0</td>\n",
       "      <td>0.188873</td>\n",
       "      <td>1535</td>\n",
       "      <td>True</td>\n",
       "    </tr>\n",
       "    <tr>\n",
       "      <th>dailywire.com</th>\n",
       "      <td>0</td>\n",
       "      <td>0.225799</td>\n",
       "      <td>902</td>\n",
       "      <td>True</td>\n",
       "    </tr>\n",
       "    <tr>\n",
       "      <th>breitbart.com</th>\n",
       "      <td>0</td>\n",
       "      <td>0.235936</td>\n",
       "      <td>2490</td>\n",
       "      <td>True</td>\n",
       "    </tr>\n",
       "    <tr>\n",
       "      <th>dailysurge.com</th>\n",
       "      <td>0</td>\n",
       "      <td>0.241127</td>\n",
       "      <td>56</td>\n",
       "      <td>True</td>\n",
       "    </tr>\n",
       "    <tr>\n",
       "      <th>americanthinker.com</th>\n",
       "      <td>0</td>\n",
       "      <td>0.241204</td>\n",
       "      <td>522</td>\n",
       "      <td>True</td>\n",
       "    </tr>\n",
       "    <tr>\n",
       "      <th>ijr.com</th>\n",
       "      <td>0</td>\n",
       "      <td>0.279872</td>\n",
       "      <td>494</td>\n",
       "      <td>True</td>\n",
       "    </tr>\n",
       "    <tr>\n",
       "      <th>wsj.com</th>\n",
       "      <td>0</td>\n",
       "      <td>0.297160</td>\n",
       "      <td>316</td>\n",
       "      <td>True</td>\n",
       "    </tr>\n",
       "    <tr>\n",
       "      <th>newsmax.com</th>\n",
       "      <td>0</td>\n",
       "      <td>0.304950</td>\n",
       "      <td>1842</td>\n",
       "      <td>True</td>\n",
       "    </tr>\n",
       "    <tr>\n",
       "      <th>weeklystandard.com</th>\n",
       "      <td>0</td>\n",
       "      <td>0.309894</td>\n",
       "      <td>768</td>\n",
       "      <td>True</td>\n",
       "    </tr>\n",
       "    <tr>\n",
       "      <th>realclearpolitics.com</th>\n",
       "      <td>0</td>\n",
       "      <td>0.317138</td>\n",
       "      <td>790</td>\n",
       "      <td>True</td>\n",
       "    </tr>\n",
       "    <tr>\n",
       "      <th>thehill.com</th>\n",
       "      <td>0</td>\n",
       "      <td>0.344552</td>\n",
       "      <td>634</td>\n",
       "      <td>True</td>\n",
       "    </tr>\n",
       "    <tr>\n",
       "      <th>heritage.org</th>\n",
       "      <td>0</td>\n",
       "      <td>0.379521</td>\n",
       "      <td>12</td>\n",
       "      <td>True</td>\n",
       "    </tr>\n",
       "    <tr>\n",
       "      <th>foxnews.com</th>\n",
       "      <td>0</td>\n",
       "      <td>0.381272</td>\n",
       "      <td>1770</td>\n",
       "      <td>True</td>\n",
       "    </tr>\n",
       "    <tr>\n",
       "      <th>nypost.com</th>\n",
       "      <td>0</td>\n",
       "      <td>0.382582</td>\n",
       "      <td>636</td>\n",
       "      <td>True</td>\n",
       "    </tr>\n",
       "    <tr>\n",
       "      <th>huffingtonpost.com</th>\n",
       "      <td>1</td>\n",
       "      <td>0.531869</td>\n",
       "      <td>544</td>\n",
       "      <td>True</td>\n",
       "    </tr>\n",
       "    <tr>\n",
       "      <th>bleacherreport.com</th>\n",
       "      <td>1</td>\n",
       "      <td>0.538444</td>\n",
       "      <td>11</td>\n",
       "      <td>True</td>\n",
       "    </tr>\n",
       "    <tr>\n",
       "      <th>baynews9.com</th>\n",
       "      <td>1</td>\n",
       "      <td>0.580235</td>\n",
       "      <td>10</td>\n",
       "      <td>True</td>\n",
       "    </tr>\n",
       "    <tr>\n",
       "      <th>wfsb.com</th>\n",
       "      <td>1</td>\n",
       "      <td>0.609334</td>\n",
       "      <td>10</td>\n",
       "      <td>True</td>\n",
       "    </tr>\n",
       "    <tr>\n",
       "      <th>cbslocal.com</th>\n",
       "      <td>1</td>\n",
       "      <td>0.617284</td>\n",
       "      <td>50</td>\n",
       "      <td>True</td>\n",
       "    </tr>\n",
       "    <tr>\n",
       "      <th>politico.com</th>\n",
       "      <td>1</td>\n",
       "      <td>0.652147</td>\n",
       "      <td>16</td>\n",
       "      <td>True</td>\n",
       "    </tr>\n",
       "    <tr>\n",
       "      <th>slate.com</th>\n",
       "      <td>1</td>\n",
       "      <td>0.658648</td>\n",
       "      <td>326</td>\n",
       "      <td>True</td>\n",
       "    </tr>\n",
       "    <tr>\n",
       "      <th>motherjones.com</th>\n",
       "      <td>1</td>\n",
       "      <td>0.669235</td>\n",
       "      <td>382</td>\n",
       "      <td>True</td>\n",
       "    </tr>\n",
       "    <tr>\n",
       "      <th>cbsnews.com</th>\n",
       "      <td>1</td>\n",
       "      <td>0.749825</td>\n",
       "      <td>2603</td>\n",
       "      <td>True</td>\n",
       "    </tr>\n",
       "    <tr>\n",
       "      <th>cnbc.com</th>\n",
       "      <td>1</td>\n",
       "      <td>0.755132</td>\n",
       "      <td>1736</td>\n",
       "      <td>True</td>\n",
       "    </tr>\n",
       "    <tr>\n",
       "      <th>theatlantic.com</th>\n",
       "      <td>1</td>\n",
       "      <td>0.776702</td>\n",
       "      <td>1005</td>\n",
       "      <td>True</td>\n",
       "    </tr>\n",
       "    <tr>\n",
       "      <th>washingtonpost.com</th>\n",
       "      <td>1</td>\n",
       "      <td>0.785450</td>\n",
       "      <td>2323</td>\n",
       "      <td>True</td>\n",
       "    </tr>\n",
       "    <tr>\n",
       "      <th>ap.org</th>\n",
       "      <td>1</td>\n",
       "      <td>0.787523</td>\n",
       "      <td>618</td>\n",
       "      <td>True</td>\n",
       "    </tr>\n",
       "    <tr>\n",
       "      <th>cnn.com</th>\n",
       "      <td>1</td>\n",
       "      <td>0.787836</td>\n",
       "      <td>4615</td>\n",
       "      <td>True</td>\n",
       "    </tr>\n",
       "    <tr>\n",
       "      <th>usatoday.com</th>\n",
       "      <td>1</td>\n",
       "      <td>0.793464</td>\n",
       "      <td>2400</td>\n",
       "      <td>True</td>\n",
       "    </tr>\n",
       "    <tr>\n",
       "      <th>nytimes.com</th>\n",
       "      <td>1</td>\n",
       "      <td>0.835476</td>\n",
       "      <td>2684</td>\n",
       "      <td>True</td>\n",
       "    </tr>\n",
       "    <tr>\n",
       "      <th>go.com</th>\n",
       "      <td>1</td>\n",
       "      <td>0.838882</td>\n",
       "      <td>3021</td>\n",
       "      <td>True</td>\n",
       "    </tr>\n",
       "    <tr>\n",
       "      <th>reuters.com</th>\n",
       "      <td>1</td>\n",
       "      <td>0.931488</td>\n",
       "      <td>1106</td>\n",
       "      <td>True</td>\n",
       "    </tr>\n",
       "  </tbody>\n",
       "</table>\n",
       "</div>"
      ],
      "text/plain": [
       "                        encoded_label      prob  domain num_correct\n",
       "domain                                                             \n",
       "westernjournalism.com               0  0.011371    1386        True\n",
       "freebeacon.com                      0  0.124865     541        True\n",
       "twitchy.com                         0  0.125950     416        True\n",
       "rushlimbaugh.com                    0  0.137237      18        True\n",
       "washingtontimes.com                 0  0.145994    1114        True\n",
       "newsbusters.org                     0  0.151458     438        True\n",
       "rightwingnews.com                   0  0.177178    1617        True\n",
       "washingtonexaminer.com              0  0.188873    1535        True\n",
       "dailywire.com                       0  0.225799     902        True\n",
       "breitbart.com                       0  0.235936    2490        True\n",
       "dailysurge.com                      0  0.241127      56        True\n",
       "americanthinker.com                 0  0.241204     522        True\n",
       "ijr.com                             0  0.279872     494        True\n",
       "wsj.com                             0  0.297160     316        True\n",
       "newsmax.com                         0  0.304950    1842        True\n",
       "weeklystandard.com                  0  0.309894     768        True\n",
       "realclearpolitics.com               0  0.317138     790        True\n",
       "thehill.com                         0  0.344552     634        True\n",
       "heritage.org                        0  0.379521      12        True\n",
       "foxnews.com                         0  0.381272    1770        True\n",
       "nypost.com                          0  0.382582     636        True\n",
       "huffingtonpost.com                  1  0.531869     544        True\n",
       "bleacherreport.com                  1  0.538444      11        True\n",
       "baynews9.com                        1  0.580235      10        True\n",
       "wfsb.com                            1  0.609334      10        True\n",
       "cbslocal.com                        1  0.617284      50        True\n",
       "politico.com                        1  0.652147      16        True\n",
       "slate.com                           1  0.658648     326        True\n",
       "motherjones.com                     1  0.669235     382        True\n",
       "cbsnews.com                         1  0.749825    2603        True\n",
       "cnbc.com                            1  0.755132    1736        True\n",
       "theatlantic.com                     1  0.776702    1005        True\n",
       "washingtonpost.com                  1  0.785450    2323        True\n",
       "ap.org                              1  0.787523     618        True\n",
       "cnn.com                             1  0.787836    4615        True\n",
       "usatoday.com                        1  0.793464    2400        True\n",
       "nytimes.com                         1  0.835476    2684        True\n",
       "go.com                              1  0.838882    3021        True\n",
       "reuters.com                         1  0.931488    1106        True"
      ]
     },
     "execution_count": 22,
     "metadata": {},
     "output_type": "execute_result"
    }
   ],
   "source": [
    "df_stats"
   ]
  },
  {
   "cell_type": "code",
   "execution_count": null,
   "metadata": {
    "collapsed": true
   },
   "outputs": [],
   "source": []
  },
  {
   "cell_type": "code",
   "execution_count": null,
   "metadata": {
    "collapsed": true
   },
   "outputs": [],
   "source": []
  },
  {
   "cell_type": "code",
   "execution_count": null,
   "metadata": {
    "collapsed": true
   },
   "outputs": [],
   "source": []
  },
  {
   "cell_type": "code",
   "execution_count": 18,
   "metadata": {
    "collapsed": false
   },
   "outputs": [
    {
     "name": "stdout",
     "output_type": "stream",
     "text": [
      "Domain-level accuracy: 74.8%\n"
     ]
    }
   ],
   "source": [
    "# Count the number of correct domain-level classifications.\n",
    "tf = df_stats.groupby('num_correct')['prob'].count()\n",
    "print('Domain-level accuracy: {:1.1f}%'.format(100.*tf[True]/tf.sum()))"
   ]
  },
  {
   "cell_type": "code",
   "execution_count": 19,
   "metadata": {
    "collapsed": false
   },
   "outputs": [
    {
     "data": {
      "text/plain": [
       "(107, 4)"
      ]
     },
     "execution_count": 19,
     "metadata": {},
     "output_type": "execute_result"
    }
   ],
   "source": [
    "df_stats.shape"
   ]
  },
  {
   "cell_type": "code",
   "execution_count": null,
   "metadata": {
    "collapsed": true
   },
   "outputs": [],
   "source": []
  }
 ],
 "metadata": {
  "kernelspec": {
   "display_name": "Python 2",
   "language": "python",
   "name": "python2"
  },
  "language_info": {
   "codemirror_mode": {
    "name": "ipython",
    "version": 2
   },
   "file_extension": ".py",
   "mimetype": "text/x-python",
   "name": "python",
   "nbconvert_exporter": "python",
   "pygments_lexer": "ipython2",
   "version": "2.7.13"
  }
 },
 "nbformat": 4,
 "nbformat_minor": 0
}
