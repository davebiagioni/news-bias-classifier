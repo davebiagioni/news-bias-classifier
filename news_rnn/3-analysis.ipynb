{
 "cells": [
  {
   "cell_type": "markdown",
   "metadata": {},
   "source": [
    "In this notebook we'll explore the solution found by our classifier."
   ]
  },
  {
   "cell_type": "code",
   "execution_count": 1,
   "metadata": {
    "collapsed": true
   },
   "outputs": [],
   "source": [
    "#!pip install seaborn"
   ]
  },
  {
   "cell_type": "code",
   "execution_count": 1,
   "metadata": {
    "collapsed": false
   },
   "outputs": [
    {
     "name": "stderr",
     "output_type": "stream",
     "text": [
      "Using TensorFlow backend.\n",
      "/Users/davidbiagioni/anaconda/lib/python2.7/site-packages/pandas/computation/__init__.py:19: UserWarning: The installed version of numexpr 2.4.4 is not supported in pandas and will be not be used\n",
      "\n",
      "  UserWarning)\n"
     ]
    }
   ],
   "source": [
    "import keras\n",
    "import pandas as pd\n",
    "import numpy as np\n",
    "import matplotlib.pyplot as plt\n",
    "import seaborn as sn\n",
    "import pickle\n",
    "\n",
    "from keras.preprocessing.sequence import pad_sequences\n",
    "from keras.models import load_model\n",
    "\n",
    "import utils\n",
    "import rnn\n",
    "\n",
    "%load_ext autoreload\n",
    "%matplotlib inline"
   ]
  },
  {
   "cell_type": "code",
   "execution_count": 71,
   "metadata": {
    "collapsed": false
   },
   "outputs": [],
   "source": [
    "%autoreload\n",
    "import utils\n",
    "import rnn"
   ]
  },
  {
   "cell_type": "markdown",
   "metadata": {},
   "source": [
    "### Re-create the training data using saved model params"
   ]
  },
  {
   "cell_type": "code",
   "execution_count": 3,
   "metadata": {
    "collapsed": true
   },
   "outputs": [],
   "source": [
    "# Pick a model to load and extract the hyperparams.\n",
    "\n",
    "#model_name = 'models/64_64_64_0.5_False_20_20000_0.3_64_0.0_002_0.53010_0.73065_titles.h5'\n",
    "model_name = 'models/64_64_64_0.5_False_20_34414_0.1_64_0.0_1_titles_001_0.52713_0.73474_titles.h5'\n",
    "\n",
    "gru_dim, embed_dim, dense_dim, dropout, bidirectional, maxlen, topn, test_size, batch_size = \\\n",
    "  utils.parse_model_name(model_name)\n",
    "  \n",
    "# Load the keras model\n",
    "model = load_model(model_name)"
   ]
  },
  {
   "cell_type": "code",
   "execution_count": 4,
   "metadata": {
    "collapsed": false
   },
   "outputs": [
    {
     "name": "stdout",
     "output_type": "stream",
     "text": [
      "CPU times: user 3.25 s, sys: 70 ms, total: 3.32 s\n",
      "Wall time: 3.32 s\n"
     ]
    }
   ],
   "source": [
    "%%time\n",
    "\n",
    "# Load the source data frame\n",
    "\n",
    "filepath = '../data/data-True-0.pkl'\n",
    "df, keep_stops, min_sents, vocab, w2i, i2w = utils.read_dataset(filepath)"
   ]
  },
  {
   "cell_type": "code",
   "execution_count": 5,
   "metadata": {
    "collapsed": false
   },
   "outputs": [
    {
     "name": "stdout",
     "output_type": "stream",
     "text": [
      "CPU times: user 111 ms, sys: 5.84 ms, total: 117 ms\n",
      "Wall time: 115 ms\n"
     ]
    }
   ],
   "source": [
    "%%time\n",
    "\n",
    "# Filter out uncommon words using parameters parsed from model name.\n",
    "\n",
    "df['encoded_text'] = utils.filter_top_words(df['encoded_text'].tolist(), topn)"
   ]
  },
  {
   "cell_type": "code",
   "execution_count": 6,
   "metadata": {
    "collapsed": true
   },
   "outputs": [],
   "source": [
    "# Create input/output data\n",
    "\n",
    "X = pad_sequences(df['encoded_text'], maxlen=maxlen, value=topn, \n",
    "                  padding='post', truncating='post')\n",
    "\n",
    "Y = df['encoded_label'].tolist()"
   ]
  },
  {
   "cell_type": "markdown",
   "metadata": {},
   "source": [
    "### High-level view of data"
   ]
  },
  {
   "cell_type": "code",
   "execution_count": 67,
   "metadata": {
    "collapsed": true
   },
   "outputs": [],
   "source": [
    "counts = df['domain'].value_counts()[:30]\n",
    "freq =  1. * counts / df.shape[0]\n",
    "summary = pd.concat([counts, freq], axis=1)\n",
    "summary.columns = ['Num articles', 'Relative Frequency']\n",
    "\n",
    "labels = []\n",
    "for idx in summary.index:\n",
    "  summary.ix[idx, 'Label'] = df[df['domain'] == idx]['label'].iloc[0]\n",
    "\n",
    "summary.to_csv('/Users/davidbiagioni/Desktop/data.csv')"
   ]
  },
  {
   "cell_type": "code",
   "execution_count": null,
   "metadata": {
    "collapsed": true
   },
   "outputs": [],
   "source": []
  },
  {
   "cell_type": "code",
   "execution_count": null,
   "metadata": {
    "collapsed": true
   },
   "outputs": [],
   "source": []
  },
  {
   "cell_type": "code",
   "execution_count": null,
   "metadata": {
    "collapsed": true
   },
   "outputs": [],
   "source": []
  },
  {
   "cell_type": "code",
   "execution_count": 7,
   "metadata": {
    "collapsed": true,
    "scrolled": false
   },
   "outputs": [],
   "source": [
    "# Get output probabilities for every observation.\n",
    "\n",
    "df['prob'] = model.predict(X)"
   ]
  },
  {
   "cell_type": "code",
   "execution_count": 8,
   "metadata": {
    "collapsed": false
   },
   "outputs": [
    {
     "data": {
      "image/png": "[encoded data removed]",
      "text/plain": [
       "<matplotlib.figure.Figure at 0x16053ad50>"
      ]
     },
     "metadata": {},
     "output_type": "display_data"
    }
   ],
   "source": [
    "# Look at distribution.  There are some funny extreme modes we should try to understand.\n",
    "\n",
    "fig, ax = plt.subplots()\n",
    "ax.set_xlabel('Predicted class probability')\n",
    "ax = df['prob'].hist(bins=100, figsize=(12, 8), ax=ax)\n",
    "ax = ax.set_title('Distribution of class probabilities')"
   ]
  },
  {
   "cell_type": "code",
   "execution_count": 8,
   "metadata": {
    "collapsed": false
   },
   "outputs": [
    {
     "data": {
      "text/plain": [
       "(0.3333333333333333, 0.6588235294117647, 0.40784313725490196)"
      ]
     },
     "execution_count": 8,
     "metadata": {},
     "output_type": "execute_result"
    }
   ],
   "source": [
    "sn.color_palette()[1]"
   ]
  },
  {
   "cell_type": "code",
   "execution_count": 9,
   "metadata": {
    "collapsed": false
   },
   "outputs": [
    {
     "data": {
      "image/png": "[encoded data removed]",
      "text/plain": [
       "<matplotlib.figure.Figure at 0x12aa31f50>"
      ]
     },
     "metadata": {},
     "output_type": "display_data"
    }
   ],
   "source": [
    "# Groupby domain name and take the average probability.  We can then round to 0/1 to \n",
    "# get a domain-level classification.\n",
    "\n",
    "drop_less_than = 10  # Drop domains with fewer than this many observations\n",
    "\n",
    "df_mean = df.groupby('domain')['encoded_label', 'prob'].mean()\n",
    "df_count = df.groupby('domain')['domain'].count()\n",
    "df_stats = pd.concat([df_mean, df_count], axis=1).sort_values('prob')\n",
    "df_stats['num_correct'] = df_stats.apply(lambda x: int(np.round(x['prob'])) == x['encoded_label'], axis=1)\n",
    "df_stats = df_stats[df_stats['domain'] >= drop_less_than]\n",
    "\n",
    "colors = {0: sn.color_palette()[0], 1: sn.color_palette()[1]}\n",
    "\n",
    "ax = df_stats['prob'].plot(kind='barh', figsize=(12, 10), color=[colors[i] for i in df_stats['encoded_label']])\n",
    "\n",
    "ax = ax.axes.vlines(0.5, -19, 1000, alpha=.2)"
   ]
  },
  {
   "cell_type": "code",
   "execution_count": null,
   "metadata": {
    "collapsed": true
   },
   "outputs": [],
   "source": []
  },
  {
   "cell_type": "code",
   "execution_count": null,
   "metadata": {
    "collapsed": true
   },
   "outputs": [],
   "source": []
  },
  {
   "cell_type": "code",
   "execution_count": null,
   "metadata": {
    "collapsed": true
   },
   "outputs": [],
   "source": []
  },
  {
   "cell_type": "code",
   "execution_count": null,
   "metadata": {
    "collapsed": true
   },
   "outputs": [],
   "source": []
  },
  {
   "cell_type": "code",
   "execution_count": 10,
   "metadata": {
    "collapsed": false
   },
   "outputs": [
    {
     "name": "stdout",
     "output_type": "stream",
     "text": [
      "Domain-level accuracy: 88.2%\n"
     ]
    }
   ],
   "source": [
    "# Count the number of correct domain-level classifications.\n",
    "tf = df_stats.groupby('num_correct')['prob'].count()\n",
    "print('Domain-level accuracy: {:1.1f}%'.format(100.*tf[True]/tf.sum()))"
   ]
  },
  {
   "cell_type": "code",
   "execution_count": null,
   "metadata": {
    "collapsed": true
   },
   "outputs": [],
   "source": []
  },
  {
   "cell_type": "code",
   "execution_count": null,
   "metadata": {
    "collapsed": true
   },
   "outputs": [],
   "source": []
  },
  {
   "cell_type": "code",
   "execution_count": 25,
   "metadata": {
    "collapsed": false
   },
   "outputs": [
    {
     "data": {
      "text/plain": [
       "cnn.com                   1336\n",
       "washingtonpost.com        1141\n",
       "cnbc.com                   470\n",
       "usatoday.com               438\n",
       "cbsnews.com                374\n",
       "go.com                     260\n",
       "theatlantic.com            209\n",
       "nytimes.com                123\n",
       "reuters.com                 79\n",
       "washingtontimes.com         25\n",
       "foxnews.com                 24\n",
       "motherjones.com             19\n",
       "washingtonexaminer.com      16\n",
       "slate.com                   14\n",
       "nypost.com                  13\n",
       "huffingtonpost.com          10\n",
       "newsmax.com                  6\n",
       "thehill.com                  4\n",
       "weeklystandard.com           4\n",
       "breitbart.com                4\n",
       "westernjournalism.com        3\n",
       "realclearpolitics.com        3\n",
       "rightwingnews.com            3\n",
       "dailywire.com                2\n",
       "bleacherreport.com           2\n",
       "ijr.com                      2\n",
       "cbslocal.com                 2\n",
       "twitchy.com                  2\n",
       "americanthinker.com          1\n",
       "freebeacon.com               1\n",
       "Name: domain, dtype: int64"
      ]
     },
     "execution_count": 25,
     "metadata": {},
     "output_type": "execute_result"
    }
   ],
   "source": [
    "df[df['prob'] > 0.9]['domain'].value_counts()"
   ]
  },
  {
   "cell_type": "code",
   "execution_count": 12,
   "metadata": {
    "collapsed": false
   },
   "outputs": [
    {
     "data": {
      "text/plain": [
       "westernjournalism.com    305\n",
       "rightwingnews.com        255\n",
       "breitbart.com             33\n",
       "dailywire.com             30\n",
       "newsbusters.org           20\n",
       "ijr.com                    6\n",
       "realclearpolitics.com      6\n",
       "newsmax.com                5\n",
       "twitchy.com                5\n",
       "freebeacon.com             3\n",
       "americanthinker.com        2\n",
       "weeklystandard.com         1\n",
       "Name: domain, dtype: int64"
      ]
     },
     "execution_count": 12,
     "metadata": {},
     "output_type": "execute_result"
    }
   ],
   "source": [
    "df[df['prob'] < 0.01]['domain'].value_counts()"
   ]
  },
  {
   "cell_type": "code",
   "execution_count": 13,
   "metadata": {
    "collapsed": false
   },
   "outputs": [
    {
     "data": {
      "text/plain": [
       "Series([], Name: domain, dtype: int64)"
      ]
     },
     "execution_count": 13,
     "metadata": {},
     "output_type": "execute_result"
    }
   ],
   "source": [
    "df[df['prob'] > 0.99]['domain'].value_counts()"
   ]
  },
  {
   "cell_type": "code",
   "execution_count": 45,
   "metadata": {
    "collapsed": false
   },
   "outputs": [
    {
     "data": {
      "text/plain": [
       "u'can_VERB -PRON-_PRON ace_VERB the_DET atlantic_PROPN thanksgiving_PROPN turkey_PROPN quiz_PROPN'"
      ]
     },
     "execution_count": 45,
     "metadata": {},
     "output_type": "execute_result"
    }
   ],
   "source": [
    "hi = df[df['prob'] > 0.9]\n",
    "hi[hi['domain'] == 'theatlantic.com']['tokenized'].iloc[3]"
   ]
  },
  {
   "cell_type": "code",
   "execution_count": 85,
   "metadata": {
    "collapsed": false
   },
   "outputs": [
    {
     "data": {
      "text/plain": [
       "(19596, 8)"
      ]
     },
     "execution_count": 85,
     "metadata": {},
     "output_type": "execute_result"
    }
   ],
   "source": [
    "lo = df[df['prob'] < 0.4]\n",
    "lo.shape"
   ]
  },
  {
   "cell_type": "code",
   "execution_count": 86,
   "metadata": {
    "collapsed": false
   },
   "outputs": [
    {
     "data": {
      "text/plain": [
       "253    unreal_NOUN on_ADP coldest_PROPN day_PROPN of_...\n",
       "254    analysis_NOUN fall_PROPN of_ADP aleppo_PROPN s...\n",
       "255    walk_VERB on_ADP stage_PROPN at_PROPN rally_PR...\n",
       "256    what_NOUN george_PROPN bush_PROPN really_VERB ...\n",
       "257    break_VERB add_VERB big_ADJ time_PROPN conserv...\n",
       "258    in_ADP find_NOUN out_ADP what_NOUN china_PROPN...\n",
       "259    the_DET medium_NOUN taught_PROPN -PRON-_PRON t...\n",
       "260    in_ADP surprise_NOUN russia_PROPN announcement...\n",
       "261    in_ADP right_ADJ before_ADP obama_PROPN leaves...\n",
       "262    right_ADV before_ADP obama_PROPN leaves_PROPN ...\n",
       "263    watch_NOUN during_ADP final_PROPN press_PROPN ...\n",
       "264    watch_NOUN obama_PROPN year_PROPN end_PROPN pr...\n",
       "265    watch_NOUN huckabee_PROPN can_VERB take_VERB -...\n",
       "266    watch_NOUN tucker_PROPN carlson_PROPN ask_VERB...\n",
       "267    a_DET day_NOUN after_ADP slams_PROPN major_PRO...\n",
       "268    break_VERB obama_PROPN revealed_PROPN the_DET ...\n",
       "269    krauthammer_PROPN drops_PROPN bombshell_PROPN ...\n",
       "270    break_VERB fbi_PROPN director_PROPN james_PROP...\n",
       "271    look_NOUN sarah_PROPN palin_PROPN surprises_PR...\n",
       "272    in_ADP new_PROPN report_PROPN shakes_PROPN up_...\n",
       "Name: tokenized, dtype: object"
      ]
     },
     "execution_count": 86,
     "metadata": {},
     "output_type": "execute_result"
    }
   ],
   "source": [
    "lo[lo['domain'] == 'westernjournalism.com']['tokenized'].head(20)"
   ]
  },
  {
   "cell_type": "code",
   "execution_count": 93,
   "metadata": {
    "collapsed": false
   },
   "outputs": [
    {
     "data": {
      "text/plain": [
       "u'krauthammer_PROPN drops_PROPN bombshell_PROPN many_ADJ thought_NOUN would_VERB never_ADV happen_VERB establishment_PROPN stun_VERB'"
      ]
     },
     "execution_count": 93,
     "metadata": {},
     "output_type": "execute_result"
    }
   ],
   "source": [
    "lo[lo['domain'] == 'westernjournalism.com']['tokenized'].ix[269]"
   ]
  },
  {
   "cell_type": "code",
   "execution_count": 72,
   "metadata": {
    "collapsed": false
   },
   "outputs": [],
   "source": [
    "in_model, out_model = rnn.split_model_layers(model, topn, embed_dim, dense_dim, gru_dim, 1, maxlen, bidirectional)"
   ]
  },
  {
   "cell_type": "code",
   "execution_count": 94,
   "metadata": {
    "collapsed": false
   },
   "outputs": [
    {
     "data": {
      "text/plain": [
       "array([ 0.04570071,  0.0203014 ,  0.00460583,  0.00565564,  0.00638276,\n",
       "        0.00620504,  0.00651948,  0.00619915,  0.00553807,  0.00504821,\n",
       "        0.00522823,  0.00528396,  0.00532334,  0.00534916,  0.00536744,\n",
       "        0.00538037,  0.00538956,  0.00539623,  0.00540147,  0.00540572], dtype=float32)"
      ]
     },
     "execution_count": 94,
     "metadata": {},
     "output_type": "execute_result"
    }
   ],
   "source": [
    "rnn.evaluate_sequential_probs(X, 269, in_model, out_model)"
   ]
  },
  {
   "cell_type": "code",
   "execution_count": 48,
   "metadata": {
    "collapsed": false
   },
   "outputs": [
    {
     "data": {
      "text/plain": [
       "u' Rep. Cummings asks Trump to soften talk about black communities Video - ABC News Sections Sections Top Stories Watch U.S. International Politics Lifestyle Entertainment Health Tech Investigative Sports Weather Shows Shows Good Morning America World News Tonight Nightline 20/20 This Week What Would You Do? Live Live Demonstrators react to court ruling on the impeached South Korean President RADAR: Severe weather and heavy snow across the East Sydney Opera House in Sydney Harbor Skiers hit the slopes in Copper Mountain, Colo. Penguin cam from the Kansas City Zoo in Missouri Bald eagle tends to her eaglet in Fort Myers, Fla. Ocean Voyager webcam at the Georgia Aquarium Barrier reef cam from the Georgia Aquarium Old Faithful geyser in Yellowstone National Park More Privacy Policy Your CA Privacy Rights Children\\'s Online Privacy Policy Interest-Based Ads Terms of Use Contact Us Yahoo!-ABC News Network | \\xa9 2017 ABC News Internet Ventures. All rights reserved. Search Menu ABC News Log In U.S. International Politics Lifestyle Entertainment Health \\u2026 \\u2026 Entertainment Health Tech Investigative Sports Weather Privacy Policy Privacy Policy Your CA Privacy Rights Your CA Privacy Rights Children\\'s Online Privacy Policy Children\\'s Online Privacy Policy Interest-Based Ads Interest-Based Ads Terms of Use Terms of Use Contact Us Contact Us Yahoo!-ABC News Network | \\xa9 2017 ABC News Internet Ventures. All rights reserved. Shows Good Morning America Good Morning America World News Tonight World News Tonight Nightline Nightline 20/20 20/20 This Week This Week What Would You Do? What Would You Do? Live Watch Rep. Cummings asks Trump to soften talk about black communities More Rep. Elijah Cummings, D-Md., said Wednesday that he used his meeting at the White House with President Trump on prescription drug prices to also address the president\\'s rhetoric about black communities. 0:32 | 03/09/17 ABC Breaking News | Latest News Videos Coming up in the next {{countdown}} {{countdownlbl}} Coming up next: {{nextVideo.title}} {{nextVideo.description}} Skip to this video now Related Now Playing: {{currentVideo.title}} Resume Playing Video More information on this video Enhanced full screen Explore related content Share your favorite moment HELP Play Video Comments Related Extras Related Videos Video Transcript Transcript for Rep. Cummings asks Trump to soften talk about black communities I said Sam this president most respectfully. When you\\'re talking about the African American community. I want you to. Realize that. All African American communities and not places. Of depression. And where people are being armed as a matter fact I let him know. I\\'ve been living in inner city of Baltimore for some 35 years in the same house and that. I think it would be good for him to acknowledge. Yet most African American people are doing very very well. This transcript has been automatically generated and may not be 100% accurate. Now Playing: FBI Director James Comey attends private meeting with top lawmakers Now Playing: House Republicans determined to repeal and replace Obamacare Now Playing: White House: Obamacare repeal \\'not getting jammed through\\' Now Playing: Rep. Cummings asks Trump to soften talk about black communities Now Playing: Jon Huntsman accepts Russia ambassadorship nomination Now Playing: First lady Melania Trump\\'s popularity rises Now Playing: Senators demand wiretap records from DOJ, FBI Now Playing: White House launches \\'full court press\\' to sell health care plan Now Playing: Women gather in Los Angeles to mark International Women\\'s Day Now Playing: Senators ask FBI to turn over evidence amid unsubstantiated Trump wiretap allegations Now Playing: Spicer slams accuracy of nonpartisan budget agency Now Playing: White House: President Trump \\'extremely concerned\\' over WikiLeaks\\' alleged CIA document dump Now Playing: House Speaker Paul Ryan: \\'No doubt\\' Republican health care plan will pass Now Playing: US \\'not ruling anything out\\' in response to N. Korea missile tests Now Playing: HHS secretary reacts to backlash against health care plan Now Playing: Hawaii to amend lawsuit to fight President Trump\\'s new travel ban Now Playing: Republicans battle over Obamacare replacement Now Playing: President Trump faces mounting pressure to prove his unsubstantiated wiretap allegations Now Playing: Proposed GOP health care plan: What you need to know Now Playing: Conservatives pan GOP replacement plan for Obamacare Now Playing: {{itm.title}} {\"id\":46016256,\"title\":\"Rep. Cummings asks Trump to soften talk about black communities\",\"duration\":\"0:32\",\"description\":\"Rep. Elijah Cummings, D-Md., said Wednesday that he used his meeting at the White House with President Trump on prescription drug prices to also address the president\\'s rhetoric about black communities.\",\"url\":\"/Politics/video/rep-cummings-asks-trump-soften-talk-black-communities-46016256\",\"section\":\"Politics\",\"mediaType\":\"default\"} Yahoo!-ABC News Network Privacy Policy Your CA Privacy Rights Children\\'s Online Privacy Policy Interest-Based Ads Terms of Use Contact Us \\xa9 2017 ABC News Internet Ventures. All rights reserved. '"
      ]
     },
     "execution_count": 48,
     "metadata": {},
     "output_type": "execute_result"
    }
   ],
   "source": [
    "df.ix[177, 'text']"
   ]
  },
  {
   "cell_type": "code",
   "execution_count": 51,
   "metadata": {
    "collapsed": false
   },
   "outputs": [
    {
     "data": {
      "text/plain": [
       "u'http://abcnews.go.com/Politics/video/rep-cummings-asks-trump-soften-talk-black-communities-46016256'"
      ]
     },
     "execution_count": 51,
     "metadata": {},
     "output_type": "execute_result"
    }
   ],
   "source": [
    "df.ix[177, 'url']"
   ]
  },
  {
   "cell_type": "code",
   "execution_count": null,
   "metadata": {
    "collapsed": true
   },
   "outputs": [],
   "source": []
  }
 ],
 "metadata": {
  "kernelspec": {
   "display_name": "Python 2",
   "language": "python",
   "name": "python2"
  },
  "language_info": {
   "codemirror_mode": {
    "name": "ipython",
    "version": 2
   },
   "file_extension": ".py",
   "mimetype": "text/x-python",
   "name": "python",
   "nbconvert_exporter": "python",
   "pygments_lexer": "ipython2",
   "version": "2.7.13"
  }
 },
 "nbformat": 4,
 "nbformat_minor": 1
}
