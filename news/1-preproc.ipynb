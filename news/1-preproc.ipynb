{
 "cells": [
  {
   "cell_type": "markdown",
   "metadata": {},
   "source": [
    "This notebook is used to preprocess the dataset for input into our ML models using spacy for tokenization, lemmatization, and PoS tagging."
   ]
  },
  {
   "cell_type": "code",
   "execution_count": 1,
   "metadata": {
    "collapsed": true
   },
   "outputs": [],
   "source": [
    "from __future__ import unicode_literals, print_function\n",
    "\n",
    "import tld\n",
    "import spacy\n",
    "import pandas as pd\n",
    "import numpy as np\n",
    "from sklearn.preprocessing import LabelEncoder\n",
    "\n",
    "import utils\n",
    "\n",
    "spacy.load('en')\n",
    "\n",
    "%load_ext autoreload"
   ]
  },
  {
   "cell_type": "code",
   "execution_count": 17,
   "metadata": {
    "collapsed": true
   },
   "outputs": [],
   "source": [
    "%autoreload\n",
    "import utils"
   ]
  },
  {
   "cell_type": "markdown",
   "metadata": {},
   "source": [
    "### Pre-pre-processing\n",
    "Read and clean article text for the types of articles we care about, namely those Alchemy has labeled as political, and that we have labeled as either \"conservative\" or \"liberal\".  We'll also extract top-level domain for later.  The output here is a pandas dataframe."
   ]
  },
  {
   "cell_type": "code",
   "execution_count": 3,
   "metadata": {
    "collapsed": true
   },
   "outputs": [],
   "source": [
    "# Define global parameters for pre-processing\n",
    "\n",
    "FIELD = 'title'     # JSON field to use as input\n",
    "MIN_SENTS = 1       # Minimum number of sentences needed for article to be used\n",
    "KEEP_STOPS = True   # Whether to keep common stop words\n",
    "\n",
    "# Dataframe file name\n",
    "OUTPUT_FILE = '../data/{}-{}-{}.pkl'.format(FIELD, MIN_SENTS, KEEP_STOPS)"
   ]
  },
  {
   "cell_type": "code",
   "execution_count": 4,
   "metadata": {},
   "outputs": [
    {
     "name": "stdout",
     "output_type": "stream",
     "text": [
      "Number of articles: 67292\n"
     ]
    }
   ],
   "source": [
    "# Read data, excluding satirical because there are too few samples.\n",
    "\n",
    "datadir = '../../news-crawler/data/articles/'\n",
    "files = utils.get_file_list(datadir, exclude_regex='.*satirical')\n",
    "\n",
    "print('Number of articles: {}'.format(len(files)))"
   ]
  },
  {
   "cell_type": "code",
   "execution_count": 5,
   "metadata": {
    "scrolled": false
   },
   "outputs": [
    {
     "name": "stdout",
     "output_type": "stream",
     "text": [
      "(67292, 3)\n",
      "CPU times: user 552 ms, sys: 140 ms, total: 692 ms\n",
      "Wall time: 38.4 s\n"
     ]
    }
   ],
   "source": [
    "%%time\n",
    "\n",
    "# Use multiprocessing to pre-pre-process.\n",
    "\n",
    "df = utils.create_dataframe(files, field=FIELD)\n",
    "\n",
    "print(df.shape)"
   ]
  },
  {
   "cell_type": "code",
   "execution_count": 7,
   "metadata": {},
   "outputs": [
    {
     "data": {
      "text/html": [
       "<div>\n",
       "<table border=\"1\" class=\"dataframe\">\n",
       "  <thead>\n",
       "    <tr style=\"text-align: right;\">\n",
       "      <th></th>\n",
       "      <th>title</th>\n",
       "      <th>label</th>\n",
       "      <th>url</th>\n",
       "      <th>domain</th>\n",
       "    </tr>\n",
       "  </thead>\n",
       "  <tbody>\n",
       "    <tr>\n",
       "      <th>0</th>\n",
       "      <td>CNN/ORC Poll: Most Americans Want Washington C...</td>\n",
       "      <td>conservative</td>\n",
       "      <td>http://www.newsmax.com/Politics/Americans-comp...</td>\n",
       "      <td>newsmax.com</td>\n",
       "    </tr>\n",
       "    <tr>\n",
       "      <th>1</th>\n",
       "      <td>Marines' Nude Photo Scandal Goes Beyond That O...</td>\n",
       "      <td>liberal</td>\n",
       "      <td>http://www.huffingtonpost.com/entry/marines-nu...</td>\n",
       "      <td>huffingtonpost.com</td>\n",
       "    </tr>\n",
       "    <tr>\n",
       "      <th>2</th>\n",
       "      <td>Man Survives 1,500-Foot Fall off Mountain - Br...</td>\n",
       "      <td>conservative</td>\n",
       "      <td>http://www.breitbart.com/big-government/2017/0...</td>\n",
       "      <td>breitbart.com</td>\n",
       "    </tr>\n",
       "    <tr>\n",
       "      <th>3</th>\n",
       "      <td>GOP health-care bill would drop addiction trea...</td>\n",
       "      <td>liberal</td>\n",
       "      <td>https://www.washingtonpost.com/news/wonk/wp/20...</td>\n",
       "      <td>washingtonpost.com</td>\n",
       "    </tr>\n",
       "    <tr>\n",
       "      <th>4</th>\n",
       "      <td>Mansfield Timberview tops Corpus Christi Memor...</td>\n",
       "      <td>conservative</td>\n",
       "      <td>http://www.washingtontimes.com/news/2017/mar/9...</td>\n",
       "      <td>washingtontimes.com</td>\n",
       "    </tr>\n",
       "  </tbody>\n",
       "</table>\n",
       "</div>"
      ],
      "text/plain": [
       "                                               title         label  \\\n",
       "0  CNN/ORC Poll: Most Americans Want Washington C...  conservative   \n",
       "1  Marines' Nude Photo Scandal Goes Beyond That O...       liberal   \n",
       "2  Man Survives 1,500-Foot Fall off Mountain - Br...  conservative   \n",
       "3  GOP health-care bill would drop addiction trea...       liberal   \n",
       "4  Mansfield Timberview tops Corpus Christi Memor...  conservative   \n",
       "\n",
       "                                                 url               domain  \n",
       "0  http://www.newsmax.com/Politics/Americans-comp...          newsmax.com  \n",
       "1  http://www.huffingtonpost.com/entry/marines-nu...   huffingtonpost.com  \n",
       "2  http://www.breitbart.com/big-government/2017/0...        breitbart.com  \n",
       "3  https://www.washingtonpost.com/news/wonk/wp/20...   washingtonpost.com  \n",
       "4  http://www.washingtontimes.com/news/2017/mar/9...  washingtontimes.com  "
      ]
     },
     "execution_count": 7,
     "metadata": {},
     "output_type": "execute_result"
    }
   ],
   "source": [
    "# Extract top-level domain\n",
    "\n",
    "df['domain'] = df['url'].map(tld.get_tld)\n",
    "df.head()"
   ]
  },
  {
   "cell_type": "markdown",
   "metadata": {},
   "source": [
    "### Pre-processing using spacy NLP\n",
    "\n",
    "__Lemmatize the text and tag words with their part of speech.__"
   ]
  },
  {
   "cell_type": "code",
   "execution_count": 8,
   "metadata": {},
   "outputs": [
    {
     "name": "stdout",
     "output_type": "stream",
     "text": [
      "processing 67292 docs\n",
      "CPU times: user 124 ms, sys: 48 ms, total: 172 ms\n",
      "Wall time: 4.66 s\n"
     ]
    }
   ],
   "source": [
    "%%time\n",
    "\n",
    "# Tokenize the text.\n",
    "\n",
    "df['tokenized'] = utils.parse_docs(list(df[FIELD]), KEEP_STOPS, MIN_SENTS)"
   ]
  },
  {
   "cell_type": "code",
   "execution_count": 9,
   "metadata": {},
   "outputs": [
    {
     "data": {
      "text/plain": [
       "(67286, 5)"
      ]
     },
     "execution_count": 9,
     "metadata": {},
     "output_type": "execute_result"
    }
   ],
   "source": [
    "# Some of the articles are empty, let's remove them.\n",
    "\n",
    "df = df.drop(df.index[np.where((df['tokenized'] == '') | (df['tokenized'].isnull()))[0]])\n",
    "df.index = range(df.shape[0])  # Need to re-index again.\n",
    "df.shape"
   ]
  },
  {
   "cell_type": "markdown",
   "metadata": {},
   "source": [
    "__Next let's encode the entire corpus into some vocab data structures.__"
   ]
  },
  {
   "cell_type": "code",
   "execution_count": 10,
   "metadata": {},
   "outputs": [
    {
     "name": "stdout",
     "output_type": "stream",
     "text": [
      "dictionary size: 34485\n",
      "CPU times: user 384 ms, sys: 24 ms, total: 408 ms\n",
      "Wall time: 341 ms\n"
     ]
    }
   ],
   "source": [
    "%%time\n",
    "\n",
    "# Extract the vocabulary and related data structures for encoding/decoding the corpus.\n",
    "\n",
    "vocab_list, vocab_word2idx, vocab_idx2word = utils.create_vocab(df['tokenized'].tolist())"
   ]
  },
  {
   "cell_type": "code",
   "execution_count": 11,
   "metadata": {},
   "outputs": [
    {
     "data": {
      "text/plain": [
       "[(u'trump_PROPN', 18382),\n",
       " (u'the_DET', 13249),\n",
       " (u'in_ADP', 12185),\n",
       " (u'of_ADP', 10240),\n",
       " (u'to_PART', 10189),\n",
       " (u'be_VERB', 9886),\n",
       " (u'-PRON-_PRON', 9203),\n",
       " (u'for_ADP', 8214),\n",
       " (u'on_ADP', 7405),\n",
       " (u'to_ADP', 7290)]"
      ]
     },
     "execution_count": 11,
     "metadata": {},
     "output_type": "execute_result"
    }
   ],
   "source": [
    "# Check out the top 10 words\n",
    "\n",
    "vocab_list[:10]"
   ]
  },
  {
   "cell_type": "code",
   "execution_count": 12,
   "metadata": {},
   "outputs": [
    {
     "name": "stdout",
     "output_type": "stream",
     "text": [
      "CPU times: user 188 ms, sys: 12 ms, total: 200 ms\n",
      "Wall time: 179 ms\n"
     ]
    }
   ],
   "source": [
    "%%time\n",
    "\n",
    "# Encode the corpus.\n",
    "\n",
    "df['encoded_text'] = df['tokenized'].map(lambda x: [vocab_word2idx[y] for y in x.split()])"
   ]
  },
  {
   "cell_type": "code",
   "execution_count": 13,
   "metadata": {},
   "outputs": [
    {
     "data": {
      "text/plain": [
       "(32,)"
      ]
     },
     "execution_count": 13,
     "metadata": {},
     "output_type": "execute_result"
    }
   ],
   "source": [
    "counts = df['domain'].value_counts()\n",
    "counts = counts[counts >= 100]\n",
    "counts.shape"
   ]
  },
  {
   "cell_type": "code",
   "execution_count": 14,
   "metadata": {},
   "outputs": [
    {
     "data": {
      "text/plain": [
       "(66658, 6)"
      ]
     },
     "execution_count": 14,
     "metadata": {},
     "output_type": "execute_result"
    }
   ],
   "source": [
    "df = df[df['domain'].isin(counts.index)]\n",
    "df.shape"
   ]
  },
  {
   "cell_type": "code",
   "execution_count": 15,
   "metadata": {},
   "outputs": [
    {
     "data": {
      "text/html": [
       "<div>\n",
       "<table border=\"1\" class=\"dataframe\">\n",
       "  <thead>\n",
       "    <tr style=\"text-align: right;\">\n",
       "      <th></th>\n",
       "      <th>title</th>\n",
       "      <th>label</th>\n",
       "      <th>url</th>\n",
       "      <th>domain</th>\n",
       "      <th>tokenized</th>\n",
       "      <th>encoded_text</th>\n",
       "      <th>encoded_domain</th>\n",
       "    </tr>\n",
       "  </thead>\n",
       "  <tbody>\n",
       "    <tr>\n",
       "      <th>0</th>\n",
       "      <td>CNN/ORC Poll: Most Americans Want Washington C...</td>\n",
       "      <td>conservative</td>\n",
       "      <td>http://www.newsmax.com/Politics/Americans-comp...</td>\n",
       "      <td>newsmax.com</td>\n",
       "      <td>poll_NOUN most_ADJ americans_PROPN want_VERB w...</td>\n",
       "      <td>[458, 672, 198, 69, 130, 7443]</td>\n",
       "      <td>15</td>\n",
       "    </tr>\n",
       "    <tr>\n",
       "      <th>1</th>\n",
       "      <td>Marines' Nude Photo Scandal Goes Beyond That O...</td>\n",
       "      <td>liberal</td>\n",
       "      <td>http://www.huffingtonpost.com/entry/marines-nu...</td>\n",
       "      <td>huffingtonpost.com</td>\n",
       "      <td>marines_PROPN nude_PROPN photo_PROPN scandal_N...</td>\n",
       "      <td>[1738, 7124, 1936, 415, 56, 2032, 116, 87, 507...</td>\n",
       "      <td>11</td>\n",
       "    </tr>\n",
       "    <tr>\n",
       "      <th>2</th>\n",
       "      <td>Man Survives 1,500-Foot Fall off Mountain - Br...</td>\n",
       "      <td>conservative</td>\n",
       "      <td>http://www.breitbart.com/big-government/2017/0...</td>\n",
       "      <td>breitbart.com</td>\n",
       "      <td>man_NOUN survive_VERB fall_PROPN off_ADP mount...</td>\n",
       "      <td>[51, 1218, 2506, 374, 5544, 29]</td>\n",
       "      <td>2</td>\n",
       "    </tr>\n",
       "    <tr>\n",
       "      <th>3</th>\n",
       "      <td>GOP health-care bill would drop addiction trea...</td>\n",
       "      <td>liberal</td>\n",
       "      <td>https://www.washingtonpost.com/news/wonk/wp/20...</td>\n",
       "      <td>washingtonpost.com</td>\n",
       "      <td>gop_PROPN health_NOUN care_NOUN bill_NOUN woul...</td>\n",
       "      <td>[47, 72, 89, 82, 131, 305, 3865, 2176, 4881, 1...</td>\n",
       "      <td>27</td>\n",
       "    </tr>\n",
       "    <tr>\n",
       "      <th>4</th>\n",
       "      <td>Mansfield Timberview tops Corpus Christi Memor...</td>\n",
       "      <td>conservative</td>\n",
       "      <td>http://www.washingtontimes.com/news/2017/mar/9...</td>\n",
       "      <td>washingtontimes.com</td>\n",
       "      <td>mansfield_PROPN timberview_PROPN top_VERB corp...</td>\n",
       "      <td>[19178, 25520, 2808, 5153, 4995, 4183, 2, 9071]</td>\n",
       "      <td>28</td>\n",
       "    </tr>\n",
       "  </tbody>\n",
       "</table>\n",
       "</div>"
      ],
      "text/plain": [
       "                                               title         label  \\\n",
       "0  CNN/ORC Poll: Most Americans Want Washington C...  conservative   \n",
       "1  Marines' Nude Photo Scandal Goes Beyond That O...       liberal   \n",
       "2  Man Survives 1,500-Foot Fall off Mountain - Br...  conservative   \n",
       "3  GOP health-care bill would drop addiction trea...       liberal   \n",
       "4  Mansfield Timberview tops Corpus Christi Memor...  conservative   \n",
       "\n",
       "                                                 url               domain  \\\n",
       "0  http://www.newsmax.com/Politics/Americans-comp...          newsmax.com   \n",
       "1  http://www.huffingtonpost.com/entry/marines-nu...   huffingtonpost.com   \n",
       "2  http://www.breitbart.com/big-government/2017/0...        breitbart.com   \n",
       "3  https://www.washingtonpost.com/news/wonk/wp/20...   washingtonpost.com   \n",
       "4  http://www.washingtontimes.com/news/2017/mar/9...  washingtontimes.com   \n",
       "\n",
       "                                           tokenized  \\\n",
       "0  poll_NOUN most_ADJ americans_PROPN want_VERB w...   \n",
       "1  marines_PROPN nude_PROPN photo_PROPN scandal_N...   \n",
       "2  man_NOUN survive_VERB fall_PROPN off_ADP mount...   \n",
       "3  gop_PROPN health_NOUN care_NOUN bill_NOUN woul...   \n",
       "4  mansfield_PROPN timberview_PROPN top_VERB corp...   \n",
       "\n",
       "                                        encoded_text  encoded_domain  \n",
       "0                     [458, 672, 198, 69, 130, 7443]              15  \n",
       "1  [1738, 7124, 1936, 415, 56, 2032, 116, 87, 507...              11  \n",
       "2                    [51, 1218, 2506, 374, 5544, 29]               2  \n",
       "3  [47, 72, 89, 82, 131, 305, 3865, 2176, 4881, 1...              27  \n",
       "4    [19178, 25520, 2808, 5153, 4995, 4183, 2, 9071]              28  "
      ]
     },
     "execution_count": 15,
     "metadata": {},
     "output_type": "execute_result"
    }
   ],
   "source": [
    "# Encode the domain labels.\n",
    "\n",
    "df['encoded_domain'] = LabelEncoder().fit_transform([x for x in df['domain']])\n",
    "df.head()"
   ]
  },
  {
   "cell_type": "code",
   "execution_count": 16,
   "metadata": {},
   "outputs": [
    {
     "data": {
      "text/html": [
       "<div>\n",
       "<table border=\"1\" class=\"dataframe\">\n",
       "  <thead>\n",
       "    <tr style=\"text-align: right;\">\n",
       "      <th></th>\n",
       "      <th>title</th>\n",
       "      <th>label</th>\n",
       "      <th>url</th>\n",
       "      <th>domain</th>\n",
       "      <th>tokenized</th>\n",
       "      <th>encoded_text</th>\n",
       "      <th>encoded_domain</th>\n",
       "      <th>encoded_label</th>\n",
       "    </tr>\n",
       "  </thead>\n",
       "  <tbody>\n",
       "    <tr>\n",
       "      <th>0</th>\n",
       "      <td>CNN/ORC Poll: Most Americans Want Washington C...</td>\n",
       "      <td>conservative</td>\n",
       "      <td>http://www.newsmax.com/Politics/Americans-comp...</td>\n",
       "      <td>newsmax.com</td>\n",
       "      <td>poll_NOUN most_ADJ americans_PROPN want_VERB w...</td>\n",
       "      <td>[458, 672, 198, 69, 130, 7443]</td>\n",
       "      <td>15</td>\n",
       "      <td>0</td>\n",
       "    </tr>\n",
       "    <tr>\n",
       "      <th>1</th>\n",
       "      <td>Marines' Nude Photo Scandal Goes Beyond That O...</td>\n",
       "      <td>liberal</td>\n",
       "      <td>http://www.huffingtonpost.com/entry/marines-nu...</td>\n",
       "      <td>huffingtonpost.com</td>\n",
       "      <td>marines_PROPN nude_PROPN photo_PROPN scandal_N...</td>\n",
       "      <td>[1738, 7124, 1936, 415, 56, 2032, 116, 87, 507...</td>\n",
       "      <td>11</td>\n",
       "      <td>1</td>\n",
       "    </tr>\n",
       "    <tr>\n",
       "      <th>2</th>\n",
       "      <td>Man Survives 1,500-Foot Fall off Mountain - Br...</td>\n",
       "      <td>conservative</td>\n",
       "      <td>http://www.breitbart.com/big-government/2017/0...</td>\n",
       "      <td>breitbart.com</td>\n",
       "      <td>man_NOUN survive_VERB fall_PROPN off_ADP mount...</td>\n",
       "      <td>[51, 1218, 2506, 374, 5544, 29]</td>\n",
       "      <td>2</td>\n",
       "      <td>0</td>\n",
       "    </tr>\n",
       "    <tr>\n",
       "      <th>3</th>\n",
       "      <td>GOP health-care bill would drop addiction trea...</td>\n",
       "      <td>liberal</td>\n",
       "      <td>https://www.washingtonpost.com/news/wonk/wp/20...</td>\n",
       "      <td>washingtonpost.com</td>\n",
       "      <td>gop_PROPN health_NOUN care_NOUN bill_NOUN woul...</td>\n",
       "      <td>[47, 72, 89, 82, 131, 305, 3865, 2176, 4881, 1...</td>\n",
       "      <td>27</td>\n",
       "      <td>1</td>\n",
       "    </tr>\n",
       "    <tr>\n",
       "      <th>4</th>\n",
       "      <td>Mansfield Timberview tops Corpus Christi Memor...</td>\n",
       "      <td>conservative</td>\n",
       "      <td>http://www.washingtontimes.com/news/2017/mar/9...</td>\n",
       "      <td>washingtontimes.com</td>\n",
       "      <td>mansfield_PROPN timberview_PROPN top_VERB corp...</td>\n",
       "      <td>[19178, 25520, 2808, 5153, 4995, 4183, 2, 9071]</td>\n",
       "      <td>28</td>\n",
       "      <td>0</td>\n",
       "    </tr>\n",
       "  </tbody>\n",
       "</table>\n",
       "</div>"
      ],
      "text/plain": [
       "                                               title         label  \\\n",
       "0  CNN/ORC Poll: Most Americans Want Washington C...  conservative   \n",
       "1  Marines' Nude Photo Scandal Goes Beyond That O...       liberal   \n",
       "2  Man Survives 1,500-Foot Fall off Mountain - Br...  conservative   \n",
       "3  GOP health-care bill would drop addiction trea...       liberal   \n",
       "4  Mansfield Timberview tops Corpus Christi Memor...  conservative   \n",
       "\n",
       "                                                 url               domain  \\\n",
       "0  http://www.newsmax.com/Politics/Americans-comp...          newsmax.com   \n",
       "1  http://www.huffingtonpost.com/entry/marines-nu...   huffingtonpost.com   \n",
       "2  http://www.breitbart.com/big-government/2017/0...        breitbart.com   \n",
       "3  https://www.washingtonpost.com/news/wonk/wp/20...   washingtonpost.com   \n",
       "4  http://www.washingtontimes.com/news/2017/mar/9...  washingtontimes.com   \n",
       "\n",
       "                                           tokenized  \\\n",
       "0  poll_NOUN most_ADJ americans_PROPN want_VERB w...   \n",
       "1  marines_PROPN nude_PROPN photo_PROPN scandal_N...   \n",
       "2  man_NOUN survive_VERB fall_PROPN off_ADP mount...   \n",
       "3  gop_PROPN health_NOUN care_NOUN bill_NOUN woul...   \n",
       "4  mansfield_PROPN timberview_PROPN top_VERB corp...   \n",
       "\n",
       "                                        encoded_text  encoded_domain  \\\n",
       "0                     [458, 672, 198, 69, 130, 7443]              15   \n",
       "1  [1738, 7124, 1936, 415, 56, 2032, 116, 87, 507...              11   \n",
       "2                    [51, 1218, 2506, 374, 5544, 29]               2   \n",
       "3  [47, 72, 89, 82, 131, 305, 3865, 2176, 4881, 1...              27   \n",
       "4    [19178, 25520, 2808, 5153, 4995, 4183, 2, 9071]              28   \n",
       "\n",
       "   encoded_label  \n",
       "0              0  \n",
       "1              1  \n",
       "2              0  \n",
       "3              1  \n",
       "4              0  "
      ]
     },
     "execution_count": 16,
     "metadata": {},
     "output_type": "execute_result"
    }
   ],
   "source": [
    "# Encode the bias labels.\n",
    "\n",
    "df['encoded_label'] = LabelEncoder().fit_transform([x for x in df['label']])\n",
    "df.head()"
   ]
  },
  {
   "cell_type": "markdown",
   "metadata": {},
   "source": [
    "### Write the data"
   ]
  },
  {
   "cell_type": "code",
   "execution_count": 18,
   "metadata": {},
   "outputs": [
    {
     "name": "stdout",
     "output_type": "stream",
     "text": [
      "wrote to ../data/title-1-True.pkl\n",
      "CPU times: user 2.13 s, sys: 28 ms, total: 2.16 s\n",
      "Wall time: 2.17 s\n"
     ]
    }
   ],
   "source": [
    "%%time\n",
    "\n",
    "_ = utils.write_dataset(OUTPUT_FILE, df, KEEP_STOPS, MIN_SENTS, vocab_list, vocab_word2idx, vocab_idx2word)"
   ]
  },
  {
   "cell_type": "code",
   "execution_count": null,
   "metadata": {
    "collapsed": true
   },
   "outputs": [],
   "source": []
  },
  {
   "cell_type": "code",
   "execution_count": null,
   "metadata": {
    "collapsed": true
   },
   "outputs": [],
   "source": []
  },
  {
   "cell_type": "code",
   "execution_count": null,
   "metadata": {
    "collapsed": true
   },
   "outputs": [],
   "source": []
  },
  {
   "cell_type": "code",
   "execution_count": null,
   "metadata": {
    "collapsed": true
   },
   "outputs": [],
   "source": []
  }
 ],
 "metadata": {
  "kernelspec": {
   "display_name": "Python 2",
   "language": "python",
   "name": "python2"
  },
  "language_info": {
   "codemirror_mode": {
    "name": "ipython",
    "version": 2
   },
   "file_extension": ".py",
   "mimetype": "text/x-python",
   "name": "python",
   "nbconvert_exporter": "python",
   "pygments_lexer": "ipython2",
   "version": "2.7.12"
  }
 },
 "nbformat": 4,
 "nbformat_minor": 1
}
