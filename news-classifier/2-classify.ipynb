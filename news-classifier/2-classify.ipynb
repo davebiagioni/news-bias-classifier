{
 "cells": [
  {
   "cell_type": "markdown",
   "metadata": {},
   "source": [
    "In this notebook we'll do further processing of the input text (in the spirit of hyperparameter tuning, rather than cleaning etc).  We'll then build and train a simple RNN classifier."
   ]
  },
  {
   "cell_type": "code",
   "execution_count": 1,
   "metadata": {},
   "outputs": [
    {
     "name": "stderr",
     "output_type": "stream",
     "text": [
      "Using TensorFlow backend.\n"
     ]
    }
   ],
   "source": [
    "from __future__ import unicode_literals, print_function\n",
    "\n",
    "import os\n",
    "import pickle\n",
    "from sklearn.model_selection import train_test_split\n",
    "from sklearn.metrics import f1_score, log_loss\n",
    "import numpy as np\n",
    "\n",
    "from keras.preprocessing.sequence import pad_sequences\n",
    "from keras.models import Sequential, load_model\n",
    "from keras.layers import Dense, GRU, Bidirectional, Activation, Dropout\n",
    "from keras.layers.core import Dropout\n",
    "from keras.layers.embeddings import Embedding\n",
    "from keras.callbacks import EarlyStopping, ModelCheckpoint\n",
    "\n",
    "import utils\n",
    "\n",
    "%load_ext autoreload"
   ]
  },
  {
   "cell_type": "markdown",
   "metadata": {},
   "source": [
    "### Read in data"
   ]
  },
  {
   "cell_type": "code",
   "execution_count": 50,
   "metadata": {},
   "outputs": [
    {
     "name": "stdout",
     "output_type": "stream",
     "text": [
      "CPU times: user 14.2 s, sys: 72 ms, total: 14.3 s\n",
      "Wall time: 14.2 s\n"
     ]
    }
   ],
   "source": [
    "%%time\n",
    "\n",
    "filepath = '../data/data-False-3.pkl'\n",
    "\n",
    "df, keep_stops, min_sents, vocab, w2i, i2w = utils.read_dataset(filepath)"
   ]
  },
  {
   "cell_type": "markdown",
   "metadata": {},
   "source": [
    "### Limit vocab size, pad sequences, and split data"
   ]
  },
  {
   "cell_type": "code",
   "execution_count": 51,
   "metadata": {
    "collapsed": true
   },
   "outputs": [],
   "source": [
    "maxlen = 200      # Max number of tokens in input sequence\n",
    "topn = 10000      # Keep only the top n words in vocabulary.  None means \"all\"\n",
    "test_size = 0.1  # Fraction of samples to keep out of training"
   ]
  },
  {
   "cell_type": "code",
   "execution_count": 52,
   "metadata": {},
   "outputs": [
    {
     "name": "stdout",
     "output_type": "stream",
     "text": [
      "CPU times: user 876 ms, sys: 52 ms, total: 928 ms\n",
      "Wall time: 893 ms\n"
     ]
    }
   ],
   "source": [
    "%%time\n",
    "\n",
    "# Filter out uncommon words.\n",
    "\n",
    "df['encoded_text'] = utils.filter_top_words(list(df['encoded_text']), topn)"
   ]
  },
  {
   "cell_type": "code",
   "execution_count": 53,
   "metadata": {},
   "outputs": [
    {
     "name": "stdout",
     "output_type": "stream",
     "text": [
      "CPU times: user 316 ms, sys: 24 ms, total: 340 ms\n",
      "Wall time: 327 ms\n"
     ]
    }
   ],
   "source": [
    "%%time\n",
    "\n",
    "# Pad sequences, using topn as the index for \"no token\"\n",
    "\n",
    "X_train = pad_sequences(df['encoded_text'], maxlen=maxlen, value=topn, \n",
    "                        padding='post', truncating='post')\n",
    "\n",
    "Y_train = df['encoded_label'].tolist()"
   ]
  },
  {
   "cell_type": "code",
   "execution_count": 54,
   "metadata": {},
   "outputs": [
    {
     "data": {
      "text/plain": [
       "((37725, 200), (4192, 200))"
      ]
     },
     "execution_count": 54,
     "metadata": {},
     "output_type": "execute_result"
    }
   ],
   "source": [
    "X_train, X_test, Y_train, Y_test = train_test_split(X_train, Y_train, test_size=test_size)\n",
    "\n",
    "X_train.shape, X_test.shape"
   ]
  },
  {
   "cell_type": "code",
   "execution_count": 55,
   "metadata": {
    "collapsed": true
   },
   "outputs": [],
   "source": [
    "# Delete the dataframe, we are done with it for now!\n",
    "del df"
   ]
  },
  {
   "cell_type": "markdown",
   "metadata": {},
   "source": [
    "### Define model\n",
    "\n",
    "This is an important part, so I'll be explicit here rather than hiding things in `utils :)`"
   ]
  },
  {
   "cell_type": "code",
   "execution_count": 56,
   "metadata": {
    "collapsed": true
   },
   "outputs": [],
   "source": [
    "embed_dim = 64         # embedding dimension for word vecs\n",
    "gru_dim = 64           # dimension of GRU layers\n",
    "bidirectional = False   # whether to use bidirectional\n",
    "dense_dim = 32         # dimensionality of dense layer\n",
    "dropout = 0.1           # dropout ratio\n",
    "batch_size = 64         # batch size\n",
    "validation_split = 0.15 # Fraction of samples to keep out for validation\n",
    "max_epochs = 20         # maximum number of epochs to run for"
   ]
  },
  {
   "cell_type": "code",
   "execution_count": 57,
   "metadata": {
    "collapsed": true
   },
   "outputs": [],
   "source": [
    "# About 43% of articles are conservative, so let's weight samples accordingly\n",
    "\n",
    "class_weight = {0: 0.57, 1: 0.43}"
   ]
  },
  {
   "cell_type": "code",
   "execution_count": 58,
   "metadata": {},
   "outputs": [
    {
     "name": "stdout",
     "output_type": "stream",
     "text": [
      "saving checkpoints to: models/64_64_32_0.1_False_200_10000_0.1_64_{epoch:03d}_{val_loss:.5f}_{val_acc:.5f}.h5\n"
     ]
    }
   ],
   "source": [
    "# Let's save our best current checkpoints, and stop if we haven't improved in 3 iterations w.r.t. val_acc.\n",
    "\n",
    "model_dir = 'models'\n",
    "basename = '{}_{}_{}_{}_{}_{}_{}_{}_{}'.format(gru_dim, embed_dim, dense_dim, dropout, bidirectional,\n",
    "                                               maxlen, topn, test_size, batch_size) \n",
    "filepath = os.path.join(model_dir, basename + '_{epoch:03d}_{val_loss:.5f}_{val_acc:.5f}.h5')\n",
    "\n",
    "print('saving checkpoints to: {}'.format(filepath))\n",
    "\n",
    "model_checkpoint = ModelCheckpoint(filepath, monitor='val_acc', verbose=0, save_best_only=True, \n",
    "                                   save_weights_only=False, mode='auto', period=1)\n",
    "\n",
    "early_stopping = EarlyStopping(monitor='val_acc', patience=3)"
   ]
  },
  {
   "cell_type": "markdown",
   "metadata": {},
   "source": [
    "We'll store each layer as a variable so we can easily access it later."
   ]
  },
  {
   "cell_type": "code",
   "execution_count": 59,
   "metadata": {},
   "outputs": [],
   "source": [
    "model = Sequential()\n",
    "\n",
    "model.add(Embedding(topn+1, embed_dim, input_length=maxlen))\n",
    "\n",
    "gru_layer = GRU(gru_dim, dropout=dropout, recurrent_dropout=dropout)\n",
    "\n",
    "if bidirectional:\n",
    "  gru_layer = Bidirectional(gru_layer)\n",
    "\n",
    "model.add(gru_layer)\n",
    "  \n",
    "model.add(Dropout(dropout))\n",
    "model.add(Dense(dense_dim, activation='relu'))\n",
    "\n",
    "model.add(Dropout(dropout))\n",
    "model.add(Dense(1, activation='sigmoid'))"
   ]
  },
  {
   "cell_type": "code",
   "execution_count": 60,
   "metadata": {},
   "outputs": [
    {
     "name": "stdout",
     "output_type": "stream",
     "text": [
      "_________________________________________________________________\n",
      "Layer (type)                 Output Shape              Param #   \n",
      "=================================================================\n",
      "embedding_5 (Embedding)      (None, 200, 64)           640064    \n",
      "_________________________________________________________________\n",
      "gru_5 (GRU)                  (None, 64)                24768     \n",
      "_________________________________________________________________\n",
      "dropout_9 (Dropout)          (None, 64)                0         \n",
      "_________________________________________________________________\n",
      "dense_9 (Dense)              (None, 32)                2080      \n",
      "_________________________________________________________________\n",
      "dropout_10 (Dropout)         (None, 32)                0         \n",
      "_________________________________________________________________\n",
      "dense_10 (Dense)             (None, 1)                 33        \n",
      "=================================================================\n",
      "Total params: 666,945\n",
      "Trainable params: 666,945\n",
      "Non-trainable params: 0\n",
      "_________________________________________________________________\n"
     ]
    }
   ],
   "source": [
    "# Compile the model\n",
    "\n",
    "_ = model.compile(loss='binary_crossentropy', optimizer='adam', metrics=['acc'])\n",
    "model.summary()"
   ]
  },
  {
   "cell_type": "markdown",
   "metadata": {},
   "source": [
    "### Train!"
   ]
  },
  {
   "cell_type": "code",
   "execution_count": 61,
   "metadata": {
    "scrolled": false
   },
   "outputs": [
    {
     "name": "stdout",
     "output_type": "stream",
     "text": [
      "Train on 32066 samples, validate on 5659 samples\n",
      "Epoch 1/20\n",
      "32066/32066 [==============================] - 58s - loss: 0.3072 - acc: 0.6640 - val_loss: 0.2915 - val_acc: 0.6902\n",
      "Epoch 2/20\n",
      "32066/32066 [==============================] - 57s - loss: 0.2411 - acc: 0.7669 - val_loss: 0.2291 - val_acc: 0.7881\n",
      "Epoch 3/20\n",
      "32066/32066 [==============================] - 57s - loss: 0.1749 - acc: 0.8404 - val_loss: 0.2067 - val_acc: 0.8185\n",
      "Epoch 4/20\n",
      "32066/32066 [==============================] - 57s - loss: 0.1345 - acc: 0.8811 - val_loss: 0.2317 - val_acc: 0.8031\n",
      "Epoch 5/20\n",
      "32066/32066 [==============================] - 57s - loss: 0.1035 - acc: 0.9136 - val_loss: 0.2676 - val_acc: 0.8017\n",
      "Epoch 6/20\n",
      "32066/32066 [==============================] - 57s - loss: 0.0809 - acc: 0.9347 - val_loss: 0.2976 - val_acc: 0.7986\n",
      "Epoch 7/20\n",
      "32066/32066 [==============================] - 57s - loss: 0.0630 - acc: 0.9498 - val_loss: 0.3351 - val_acc: 0.8023\n"
     ]
    }
   ],
   "source": [
    "hist = model.fit(X_train, Y_train, epochs=max_epochs, batch_size=batch_size,\n",
    "                 class_weight=class_weight, validation_split=validation_split, \n",
    "                 shuffle=True, callbacks=[model_checkpoint, early_stopping])"
   ]
  },
  {
   "cell_type": "markdown",
   "metadata": {},
   "source": [
    "### Simple evaluation metrics on hold-out test set"
   ]
  },
  {
   "cell_type": "code",
   "execution_count": 62,
   "metadata": {
    "collapsed": true
   },
   "outputs": [],
   "source": [
    "# Load the best checkpoint\n",
    "\n",
    "model = load_model('models/64_64_32_0.1_False_200_10000_0.1_64_002_0.20667_0.81852.h5')"
   ]
  },
  {
   "cell_type": "code",
   "execution_count": 63,
   "metadata": {},
   "outputs": [
    {
     "name": "stdout",
     "output_type": "stream",
     "text": [
      "Accuracy:  81.6%\n",
      "Benchmark: 56.7% (guessing all label 1)\n"
     ]
    }
   ],
   "source": [
    "# Accuracy\n",
    "\n",
    "scores = model.evaluate(X_test, Y_test, verbose=0)\n",
    "benchmark = 100. * len(np.where(np.array(Y_test) == 1)[0]) / len(Y_test)\n",
    "\n",
    "print('Accuracy:  {:2.1f}%'.format(scores[1] * 100.))\n",
    "print('Benchmark: {:2.1f}% (guessing all label 1)'.format(benchmark))"
   ]
  },
  {
   "cell_type": "code",
   "execution_count": 64,
   "metadata": {},
   "outputs": [
    {
     "name": "stdout",
     "output_type": "stream",
     "text": [
      "f1 score:  0.84\n",
      "Benchmark: 0.72 (guessing all label 1): \n"
     ]
    }
   ],
   "source": [
    "# F1 score\n",
    "\n",
    "Y_pred = model.predict_classes(X_test, verbose=0).squeeze().tolist()\n",
    "benchmark = np.ones_like(Y_test)\n",
    "\n",
    "print('f1 score:  {:2.2f}'.format(f1_score(Y_test, Y_pred)))\n",
    "print('Benchmark: {:2.2f} (guessing all label 1): '.format(f1_score(Y_test, benchmark)))"
   ]
  },
  {
   "cell_type": "code",
   "execution_count": 65,
   "metadata": {},
   "outputs": [
    {
     "name": "stdout",
     "output_type": "stream",
     "text": [
      "Log loss:  0.41\n",
      "Benchmark: 0.68 (guessing 0.57 probability \"liberal\"): \n"
     ]
    }
   ],
   "source": [
    "# logloss\n",
    "\n",
    "Y_pred = model.predict(X_test, verbose=0).squeeze().tolist()\n",
    "benchmark = 0.57 * np.ones_like(Y_test)\n",
    "\n",
    "print('Log loss:  {:2.2f}'.format(log_loss(Y_test, Y_pred)))\n",
    "print('Benchmark: {:2.2f} (guessing 0.57 probability \"liberal\"): '.format(log_loss(Y_test, benchmark)))"
   ]
  },
  {
   "cell_type": "markdown",
   "metadata": {},
   "source": [
    "Definitely better than random! `:)`"
   ]
  },
  {
   "cell_type": "code",
   "execution_count": null,
   "metadata": {
    "collapsed": true
   },
   "outputs": [],
   "source": []
  },
  {
   "cell_type": "code",
   "execution_count": null,
   "metadata": {
    "collapsed": true
   },
   "outputs": [],
   "source": []
  },
  {
   "cell_type": "code",
   "execution_count": null,
   "metadata": {
    "collapsed": true
   },
   "outputs": [],
   "source": []
  }
 ],
 "metadata": {
  "kernelspec": {
   "display_name": "Python 2",
   "language": "python",
   "name": "python2"
  },
  "language_info": {
   "codemirror_mode": {
    "name": "ipython",
    "version": 2
   },
   "file_extension": ".py",
   "mimetype": "text/x-python",
   "name": "python",
   "nbconvert_exporter": "python",
   "pygments_lexer": "ipython2",
   "version": "2.7.12"
  }
 },
 "nbformat": 4,
 "nbformat_minor": 1
}
