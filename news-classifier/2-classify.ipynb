{
 "cells": [
  {
   "cell_type": "markdown",
   "metadata": {},
   "source": [
    "In this notebook we'll do further processing of the input text (in the spirit of hyperparameter tuning, rather than cleaning etc).  We'll then build and train a simple RNN classifier."
   ]
  },
  {
   "cell_type": "code",
   "execution_count": 52,
   "metadata": {
    "collapsed": false
   },
   "outputs": [
    {
     "name": "stdout",
     "output_type": "stream",
     "text": [
      "The autoreload extension is already loaded. To reload it, use:\n",
      "  %reload_ext autoreload\n"
     ]
    }
   ],
   "source": [
    "from __future__ import unicode_literals, print_function\n",
    "\n",
    "import os\n",
    "import pickle\n",
    "from sklearn.model_selection import train_test_split\n",
    "from sklearn.metrics import f1_score, log_loss\n",
    "import numpy as np\n",
    "\n",
    "from keras.preprocessing.sequence import pad_sequences\n",
    "from keras.models import Sequential\n",
    "from keras.layers import Dense, GRU, Bidirectional, Activation, Dropout\n",
    "from keras.layers.core import Dropout\n",
    "from keras.layers.embeddings import Embedding\n",
    "from keras.callbacks import EarlyStopping, ModelCheckpoint\n",
    "\n",
    "import utils\n",
    "\n",
    "%load_ext autoreload"
   ]
  },
  {
   "cell_type": "code",
   "execution_count": 37,
   "metadata": {
    "collapsed": true
   },
   "outputs": [],
   "source": [
    "%autoreload\n",
    "import utils"
   ]
  },
  {
   "cell_type": "markdown",
   "metadata": {},
   "source": [
    "### Read in data"
   ]
  },
  {
   "cell_type": "code",
   "execution_count": 2,
   "metadata": {
    "collapsed": false
   },
   "outputs": [
    {
     "name": "stdout",
     "output_type": "stream",
     "text": [
      "CPU times: user 33.9 s, sys: 596 ms, total: 34.5 s\n",
      "Wall time: 34.6 s\n"
     ]
    }
   ],
   "source": [
    "%%time\n",
    "\n",
    "filepath = '../data/data-False-3.pkl'\n",
    "\n",
    "df, keep_stops, min_sents, vocab, w2i, i2w = utils.read_dataset(filepath)"
   ]
  },
  {
   "cell_type": "markdown",
   "metadata": {},
   "source": [
    "### Limit vocab size, pad sequences, and split data"
   ]
  },
  {
   "cell_type": "code",
   "execution_count": 20,
   "metadata": {
    "collapsed": true
   },
   "outputs": [],
   "source": [
    "maxlen = 100     # Max number of tokens in input sequence\n",
    "topn = 10000     # Keep only the top n words in vocabulary.  None means \"all\"\n",
    "test_size = 0.1  # Fraction of samples to keep out of training"
   ]
  },
  {
   "cell_type": "code",
   "execution_count": 4,
   "metadata": {
    "collapsed": false
   },
   "outputs": [
    {
     "name": "stdout",
     "output_type": "stream",
     "text": [
      "CPU times: user 1.67 s, sys: 48.7 ms, total: 1.72 s\n",
      "Wall time: 1.72 s\n"
     ]
    }
   ],
   "source": [
    "%%time\n",
    "\n",
    "# Filter out uncommon words.\n",
    "\n",
    "df['encoded_text'] = utils.filter_top_words(list(df['encoded_text']), topn)"
   ]
  },
  {
   "cell_type": "code",
   "execution_count": 22,
   "metadata": {
    "collapsed": false
   },
   "outputs": [
    {
     "name": "stdout",
     "output_type": "stream",
     "text": [
      "CPU times: user 367 ms, sys: 61.7 ms, total: 428 ms\n",
      "Wall time: 422 ms\n"
     ]
    }
   ],
   "source": [
    "%%time\n",
    "\n",
    "# Pad sequences, using topn as the index for \"no token\"\n",
    "\n",
    "X_train = pad_sequences(df['encoded_text'], maxlen=maxlen, value=topn, \n",
    "                        padding='post', truncating='post')\n",
    "\n",
    "Y_train = df['encoded_label'].tolist()"
   ]
  },
  {
   "cell_type": "code",
   "execution_count": 23,
   "metadata": {
    "collapsed": false
   },
   "outputs": [
    {
     "data": {
      "text/plain": [
       "((37725, 100), (4192, 100))"
      ]
     },
     "execution_count": 23,
     "metadata": {},
     "output_type": "execute_result"
    }
   ],
   "source": [
    "X_train, X_test, Y_train, Y_test = train_test_split(X_train, Y_train, test_size=test_size)\n",
    "\n",
    "X_train.shape, X_test.shape"
   ]
  },
  {
   "cell_type": "markdown",
   "metadata": {},
   "source": [
    "### Define model\n",
    "\n",
    "This is an important part, so I'll be explicit here rather than hiding things in `utils :)`"
   ]
  },
  {
   "cell_type": "code",
   "execution_count": 24,
   "metadata": {
    "collapsed": true
   },
   "outputs": [],
   "source": [
    "embed_dim = 64         # embedding dimension for word vecs\n",
    "gru_dim = 64           # dimension of GRU layers\n",
    "bidirectional = False   # whether to use bidirectional\n",
    "dense_dim = 32         # dimensionality of dense layer\n",
    "dropout = 0.3           # dropout ratio\n",
    "batch_size = 64         # batch size\n",
    "validation_split = 0.15 # Fraction of samples to keep out for validation\n",
    "max_epochs = 20         # maximum number of epochs to run for"
   ]
  },
  {
   "cell_type": "code",
   "execution_count": 25,
   "metadata": {
    "collapsed": true
   },
   "outputs": [],
   "source": [
    "# About 43% of articles are conservative, so let's weight samples accordingly\n",
    "\n",
    "class_weight = {0: 0.57, 1: 0.43}"
   ]
  },
  {
   "cell_type": "code",
   "execution_count": 26,
   "metadata": {
    "collapsed": false
   },
   "outputs": [
    {
     "name": "stdout",
     "output_type": "stream",
     "text": [
      "saving checkpoints to: models/gru-100_10000_64_64_False_32_0.3_64_{epoch:03d}_{val_loss:.5f}_{val_acc:.5f}.h5\n"
     ]
    }
   ],
   "source": [
    "# Let's save our best current checkpoints, and stop if we haven't improved in 3 iterations w.r.t. val_acc.\n",
    "\n",
    "model_dir = 'models'\n",
    "basename = 'gru-{}_{}_{}_{}_{}_{}_{}_{}'.format(maxlen, topn, embed_dim, gru_dim, bidirectional, dense_dim, \n",
    "                                                dropout, batch_size) \n",
    "filepath = os.path.join(model_dir, basename + '_{epoch:03d}_{val_loss:.5f}_{val_acc:.5f}.h5')\n",
    "\n",
    "print('saving checkpoints to: {}'.format(filepath))\n",
    "\n",
    "model_checkpoint = ModelCheckpoint(filepath, monitor='val_acc', verbose=0, save_best_only=True, \n",
    "                                   save_weights_only=False, mode='auto', period=1)\n",
    "\n",
    "early_stopping = EarlyStopping(monitor='val_acc', patience=3)"
   ]
  },
  {
   "cell_type": "markdown",
   "metadata": {},
   "source": [
    "We'll store each layer as a variable so we can easily access it later."
   ]
  },
  {
   "cell_type": "code",
   "execution_count": 27,
   "metadata": {
    "collapsed": false
   },
   "outputs": [],
   "source": [
    "model = Sequential()\n",
    "\n",
    "emb_layer = Embedding(topn+1, embed_dim, input_length=maxlen)\n",
    "model.add(emb_layer)\n",
    "\n",
    "gru_layer = GRU(gru_dim, dropout=dropout, recurrent_dropout=dropout)\n",
    "\n",
    "if bidirectional:\n",
    "  gru_layer = Bidirectional(gru_layer)\n",
    "\n",
    "model.add(gru_layer)\n",
    "  \n",
    "model.add(Dropout(dropout))\n",
    "dense_layer = Dense(dense_dim, activation='relu')\n",
    "model.add(dense_layer)\n",
    "\n",
    "model.add(Dropout(dropout))\n",
    "output_layer = Dense(1, activation='sigmoid')\n",
    "model.add(output_layer)"
   ]
  },
  {
   "cell_type": "code",
   "execution_count": 28,
   "metadata": {
    "collapsed": false
   },
   "outputs": [
    {
     "name": "stdout",
     "output_type": "stream",
     "text": [
      "_________________________________________________________________\n",
      "Layer (type)                 Output Shape              Param #   \n",
      "=================================================================\n",
      "embedding_4 (Embedding)      (None, 100, 64)           640064    \n",
      "_________________________________________________________________\n",
      "gru_4 (GRU)                  (None, 64)                24768     \n",
      "_________________________________________________________________\n",
      "dropout_7 (Dropout)          (None, 64)                0         \n",
      "_________________________________________________________________\n",
      "dense_7 (Dense)              (None, 32)                2080      \n",
      "_________________________________________________________________\n",
      "dropout_8 (Dropout)          (None, 32)                0         \n",
      "_________________________________________________________________\n",
      "dense_8 (Dense)              (None, 1)                 33        \n",
      "=================================================================\n",
      "Total params: 666,945\n",
      "Trainable params: 666,945\n",
      "Non-trainable params: 0\n",
      "_________________________________________________________________\n"
     ]
    }
   ],
   "source": [
    "# Compile the model\n",
    "\n",
    "_ = model.compile(loss='binary_crossentropy', optimizer='adam', metrics=['acc'])\n",
    "model.summary()"
   ]
  },
  {
   "cell_type": "markdown",
   "metadata": {},
   "source": [
    "### Train!"
   ]
  },
  {
   "cell_type": "code",
   "execution_count": 29,
   "metadata": {
    "collapsed": false,
    "scrolled": true
   },
   "outputs": [
    {
     "name": "stdout",
     "output_type": "stream",
     "text": [
      "Train on 32066 samples, validate on 5659 samples\n",
      "Epoch 1/20\n",
      "32066/32066 [==============================] - 47s - loss: 0.3002 - acc: 0.6792 - val_loss: 0.2576 - val_acc: 0.7586\n",
      "Epoch 2/20\n",
      "32066/32066 [==============================] - 49s - loss: 0.2455 - acc: 0.7660 - val_loss: 0.2498 - val_acc: 0.7517\n",
      "Epoch 3/20\n",
      "32066/32066 [==============================] - 49s - loss: 0.2241 - acc: 0.7863 - val_loss: 0.2434 - val_acc: 0.7743\n",
      "Epoch 4/20\n",
      "32066/32066 [==============================] - 50s - loss: 0.2077 - acc: 0.8023 - val_loss: 0.2472 - val_acc: 0.7602\n",
      "Epoch 5/20\n",
      "32066/32066 [==============================] - 47s - loss: 0.1854 - acc: 0.8285 - val_loss: 0.2638 - val_acc: 0.7641\n",
      "Epoch 6/20\n",
      "32066/32066 [==============================] - 48s - loss: 0.1704 - acc: 0.8430 - val_loss: 0.2754 - val_acc: 0.7554\n",
      "Epoch 7/20\n",
      "32066/32066 [==============================] - 48s - loss: 0.1537 - acc: 0.8632 - val_loss: 0.2763 - val_acc: 0.7655\n"
     ]
    }
   ],
   "source": [
    "hist = model.fit(X_train, Y_train, epochs=max_epochs, batch_size=batch_size,\n",
    "                 class_weight=class_weight, validation_split=validation_split, \n",
    "                 shuffle=True, callbacks=[model_checkpoint, early_stopping])"
   ]
  },
  {
   "cell_type": "markdown",
   "metadata": {},
   "source": [
    "### Simple evaluation metrics on hold-out test set"
   ]
  },
  {
   "cell_type": "code",
   "execution_count": 64,
   "metadata": {
    "collapsed": false
   },
   "outputs": [
    {
     "name": "stdout",
     "output_type": "stream",
     "text": [
      "Accuracy:  76.0%\n",
      "Benchmark: 55.5% (guessing all label 1)\n"
     ]
    }
   ],
   "source": [
    "# Accuracy\n",
    "\n",
    "scores = model.evaluate(X_test, Y_test, verbose=0)\n",
    "benchmark = 100. * len(np.where(np.array(Y_test) == 1)[0]) / len(Y_test)\n",
    "\n",
    "print('Accuracy:  {:2.1f}%'.format(scores[1] * 100.))\n",
    "print('Benchmark: {:2.1f}% (guessing all label 1)'.format(benchmark))"
   ]
  },
  {
   "cell_type": "code",
   "execution_count": 68,
   "metadata": {
    "collapsed": false
   },
   "outputs": [
    {
     "name": "stdout",
     "output_type": "stream",
     "text": [
      "f1 score:  0.77\n",
      "Benchmark: 0.71 (guessing all label 1): \n"
     ]
    }
   ],
   "source": [
    "# F1 score\n",
    "\n",
    "Y_pred = model.predict_classes(X_test, verbose=0).squeeze().tolist()\n",
    "benchmark = np.ones_like(Y_test)\n",
    "\n",
    "print('f1 score:  {:2.2f}'.format(f1_score(Y_test, Y_pred)))\n",
    "print('Benchmark: {:2.2f} (guessing all label 1): '.format(f1_score(Y_test, benchmark)))"
   ]
  },
  {
   "cell_type": "code",
   "execution_count": 70,
   "metadata": {
    "collapsed": false
   },
   "outputs": [
    {
     "name": "stdout",
     "output_type": "stream",
     "text": [
      "Log loss:  0.55\n",
      "Benchmark: 0.69 (guessing all probabilities 0.57): \n"
     ]
    }
   ],
   "source": [
    "# logloss\n",
    "\n",
    "Y_pred = model.predict(X_test, verbose=0).squeeze().tolist()\n",
    "benchmark = 0.57 * np.ones_like(Y_test)\n",
    "\n",
    "print('Log loss:  {:2.2f}'.format(log_loss(Y_test, Y_pred)))\n",
    "print('Benchmark: {:2.2f} (guessing all probabilities 0.57): '.format(log_loss(Y_test, benchmark)))"
   ]
  },
  {
   "cell_type": "markdown",
   "metadata": {},
   "source": [
    "We're definitely doing better than random! `:)`"
   ]
  },
  {
   "cell_type": "code",
   "execution_count": null,
   "metadata": {
    "collapsed": true
   },
   "outputs": [],
   "source": []
  }
 ],
 "metadata": {
  "kernelspec": {
   "display_name": "Python 2",
   "language": "python",
   "name": "python2"
  },
  "language_info": {
   "codemirror_mode": {
    "name": "ipython",
    "version": 2
   },
   "file_extension": ".py",
   "mimetype": "text/x-python",
   "name": "python",
   "nbconvert_exporter": "python",
   "pygments_lexer": "ipython2",
   "version": "2.7.13"
  }
 },
 "nbformat": 4,
 "nbformat_minor": 0
}
