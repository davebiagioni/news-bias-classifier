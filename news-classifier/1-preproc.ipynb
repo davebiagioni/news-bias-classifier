{
 "cells": [
  {
   "cell_type": "markdown",
   "metadata": {},
   "source": [
    "This notebook is used to preprocess the dataset for input into our ML models using spacy for tokenization, lemmatization, and PoS tagging."
   ]
  },
  {
   "cell_type": "code",
   "execution_count": 47,
   "metadata": {
    "collapsed": false
   },
   "outputs": [
    {
     "name": "stdout",
     "output_type": "stream",
     "text": [
      "The autoreload extension is already loaded. To reload it, use:\n",
      "  %reload_ext autoreload\n"
     ]
    }
   ],
   "source": [
    "from __future__ import unicode_literals, print_function\n",
    "\n",
    "import tld\n",
    "import spacy\n",
    "import numpy as np\n",
    "from sklearn.preprocessing import LabelEncoder\n",
    "\n",
    "import utils\n",
    "\n",
    "spacy.load('en')\n",
    "\n",
    "%load_ext autoreload"
   ]
  },
  {
   "cell_type": "markdown",
   "metadata": {},
   "source": [
    "### Pre-pre-processing\n",
    "Read and clean article text for the types of articles we care about, namely those Alchemy has labeled as political, and that we have labeled as either \"conservative\" or \"liberal\".  We'll also extract top-level domain for later.  The output here is a pandas dataframe."
   ]
  },
  {
   "cell_type": "code",
   "execution_count": 2,
   "metadata": {
    "collapsed": false
   },
   "outputs": [
    {
     "name": "stdout",
     "output_type": "stream",
     "text": [
      "Number of articles: 67292\n"
     ]
    }
   ],
   "source": [
    "# Read data, excluding satirical because there are too few samples.\n",
    "\n",
    "datadir = '../../news-crawler/data/articles/'\n",
    "files = utils.get_file_list(datadir, exclude_regex='.*satirical')\n",
    "\n",
    "print('Number of articles: {}'.format(len(files)))"
   ]
  },
  {
   "cell_type": "code",
   "execution_count": 3,
   "metadata": {
    "collapsed": false
   },
   "outputs": [
    {
     "name": "stdout",
     "output_type": "stream",
     "text": [
      "(43226, 3)\n",
      "CPU times: user 662 ms, sys: 305 ms, total: 967 ms\n",
      "Wall time: 29.9 s\n"
     ]
    }
   ],
   "source": [
    "%%time\n",
    "\n",
    "# Use multiprocessing to pre-pre-process.\n",
    "\n",
    "df = utils.create_dataframe(files)\n",
    "print(df.shape)"
   ]
  },
  {
   "cell_type": "code",
   "execution_count": 4,
   "metadata": {
    "collapsed": false
   },
   "outputs": [
    {
     "data": {
      "text/html": [
       "<div>\n",
       "<table border=\"1\" class=\"dataframe\">\n",
       "  <thead>\n",
       "    <tr style=\"text-align: right;\">\n",
       "      <th></th>\n",
       "      <th>text</th>\n",
       "      <th>label</th>\n",
       "      <th>url</th>\n",
       "    </tr>\n",
       "  </thead>\n",
       "  <tbody>\n",
       "    <tr>\n",
       "      <th>0</th>\n",
       "      <td>Big government has been crushing the United St...</td>\n",
       "      <td>conservative</td>\n",
       "      <td>http://dailysurge.com/2016/12/commentary-resto...</td>\n",
       "    </tr>\n",
       "    <tr>\n",
       "      <th>1</th>\n",
       "      <td>During the eight years of the Obama administra...</td>\n",
       "      <td>conservative</td>\n",
       "      <td>http://dailysurge.com/2016/12/commentary-welco...</td>\n",
       "    </tr>\n",
       "    <tr>\n",
       "      <th>2</th>\n",
       "      <td>We are witnessing the rise of a new “right” wh...</td>\n",
       "      <td>conservative</td>\n",
       "      <td>http://dailysurge.com/2016/11/commentary-28th-...</td>\n",
       "    </tr>\n",
       "    <tr>\n",
       "      <th>3</th>\n",
       "      <td>If there’s one thing that Americans find intol...</td>\n",
       "      <td>conservative</td>\n",
       "      <td>http://dailysurge.com/2016/11/commentary-retur...</td>\n",
       "    </tr>\n",
       "    <tr>\n",
       "      <th>4</th>\n",
       "      <td>What is Airbnb? Airbnb is an online marketplac...</td>\n",
       "      <td>conservative</td>\n",
       "      <td>http://dailysurge.com/2016/11/commentary-airbn...</td>\n",
       "    </tr>\n",
       "  </tbody>\n",
       "</table>\n",
       "</div>"
      ],
      "text/plain": [
       "                                                text         label  \\\n",
       "0  Big government has been crushing the United St...  conservative   \n",
       "1  During the eight years of the Obama administra...  conservative   \n",
       "2  We are witnessing the rise of a new “right” wh...  conservative   \n",
       "3  If there’s one thing that Americans find intol...  conservative   \n",
       "4  What is Airbnb? Airbnb is an online marketplac...  conservative   \n",
       "\n",
       "                                                 url  \n",
       "0  http://dailysurge.com/2016/12/commentary-resto...  \n",
       "1  http://dailysurge.com/2016/12/commentary-welco...  \n",
       "2  http://dailysurge.com/2016/11/commentary-28th-...  \n",
       "3  http://dailysurge.com/2016/11/commentary-retur...  \n",
       "4  http://dailysurge.com/2016/11/commentary-airbn...  "
      ]
     },
     "execution_count": 4,
     "metadata": {},
     "output_type": "execute_result"
    }
   ],
   "source": [
    "# Take a peek!\n",
    "\n",
    "df.head()"
   ]
  },
  {
   "cell_type": "code",
   "execution_count": 7,
   "metadata": {
    "collapsed": false
   },
   "outputs": [
    {
     "data": {
      "text/html": [
       "<div>\n",
       "<table border=\"1\" class=\"dataframe\">\n",
       "  <thead>\n",
       "    <tr style=\"text-align: right;\">\n",
       "      <th></th>\n",
       "      <th>text</th>\n",
       "      <th>label</th>\n",
       "      <th>url</th>\n",
       "      <th>domain</th>\n",
       "    </tr>\n",
       "  </thead>\n",
       "  <tbody>\n",
       "    <tr>\n",
       "      <th>0</th>\n",
       "      <td>Big government has been crushing the United St...</td>\n",
       "      <td>conservative</td>\n",
       "      <td>http://dailysurge.com/2016/12/commentary-resto...</td>\n",
       "      <td>dailysurge.com</td>\n",
       "    </tr>\n",
       "    <tr>\n",
       "      <th>1</th>\n",
       "      <td>During the eight years of the Obama administra...</td>\n",
       "      <td>conservative</td>\n",
       "      <td>http://dailysurge.com/2016/12/commentary-welco...</td>\n",
       "      <td>dailysurge.com</td>\n",
       "    </tr>\n",
       "    <tr>\n",
       "      <th>2</th>\n",
       "      <td>We are witnessing the rise of a new “right” wh...</td>\n",
       "      <td>conservative</td>\n",
       "      <td>http://dailysurge.com/2016/11/commentary-28th-...</td>\n",
       "      <td>dailysurge.com</td>\n",
       "    </tr>\n",
       "    <tr>\n",
       "      <th>3</th>\n",
       "      <td>If there’s one thing that Americans find intol...</td>\n",
       "      <td>conservative</td>\n",
       "      <td>http://dailysurge.com/2016/11/commentary-retur...</td>\n",
       "      <td>dailysurge.com</td>\n",
       "    </tr>\n",
       "    <tr>\n",
       "      <th>4</th>\n",
       "      <td>What is Airbnb? Airbnb is an online marketplac...</td>\n",
       "      <td>conservative</td>\n",
       "      <td>http://dailysurge.com/2016/11/commentary-airbn...</td>\n",
       "      <td>dailysurge.com</td>\n",
       "    </tr>\n",
       "  </tbody>\n",
       "</table>\n",
       "</div>"
      ],
      "text/plain": [
       "                                                text         label  \\\n",
       "0  Big government has been crushing the United St...  conservative   \n",
       "1  During the eight years of the Obama administra...  conservative   \n",
       "2  We are witnessing the rise of a new “right” wh...  conservative   \n",
       "3  If there’s one thing that Americans find intol...  conservative   \n",
       "4  What is Airbnb? Airbnb is an online marketplac...  conservative   \n",
       "\n",
       "                                                 url          domain  \n",
       "0  http://dailysurge.com/2016/12/commentary-resto...  dailysurge.com  \n",
       "1  http://dailysurge.com/2016/12/commentary-welco...  dailysurge.com  \n",
       "2  http://dailysurge.com/2016/11/commentary-28th-...  dailysurge.com  \n",
       "3  http://dailysurge.com/2016/11/commentary-retur...  dailysurge.com  \n",
       "4  http://dailysurge.com/2016/11/commentary-airbn...  dailysurge.com  "
      ]
     },
     "execution_count": 7,
     "metadata": {},
     "output_type": "execute_result"
    }
   ],
   "source": [
    "# Extract top-level domain for later.\n",
    "\n",
    "df['domain'] = df['url'].map(tld.get_tld)\n",
    "df.head()"
   ]
  },
  {
   "cell_type": "markdown",
   "metadata": {},
   "source": [
    "### Pre-processing using spacy NLP\n",
    "\n",
    "__Here we are going to lemmatize the text and tag words with their part of speech.__"
   ]
  },
  {
   "cell_type": "code",
   "execution_count": 8,
   "metadata": {
    "collapsed": false
   },
   "outputs": [],
   "source": [
    "# We'll keep article if it has at least min_sents sentences.\n",
    "min_sents = 3     \n",
    "\n",
    "# Whether to exclude stopwords.\n",
    "keep_stops = False"
   ]
  },
  {
   "cell_type": "code",
   "execution_count": 31,
   "metadata": {
    "collapsed": true
   },
   "outputs": [],
   "source": [
    "%autoreload\n",
    "import utils"
   ]
  },
  {
   "cell_type": "code",
   "execution_count": 32,
   "metadata": {
    "collapsed": false
   },
   "outputs": [
    {
     "name": "stdout",
     "output_type": "stream",
     "text": [
      "processing 43226 docs\n",
      "CPU times: user 1.3 s, sys: 482 ms, total: 1.78 s\n",
      "Wall time: 5min 38s\n"
     ]
    }
   ],
   "source": [
    "%%time\n",
    "\n",
    "# Tokenize the text.\n",
    "df['tokenized'] = utils.parse_docs(list(df['text']), keep_stops, min_sents)"
   ]
  },
  {
   "cell_type": "code",
   "execution_count": 38,
   "metadata": {
    "collapsed": false
   },
   "outputs": [
    {
     "data": {
      "text/plain": [
       "(41917, 4)"
      ]
     },
     "execution_count": 38,
     "metadata": {},
     "output_type": "execute_result"
    }
   ],
   "source": [
    "# Some of the articles are empty, let's remove them.\n",
    "\n",
    "df = df.drop(df.index[np.where(df['tokenized'] == '')[0]])\n",
    "df.index = range(df.shape[0])  # Need to re-index again.\n",
    "df.shape"
   ]
  },
  {
   "cell_type": "markdown",
   "metadata": {},
   "source": [
    "__Next let's encode the entire corpus into some vocab data structures.__"
   ]
  },
  {
   "cell_type": "code",
   "execution_count": 44,
   "metadata": {
    "collapsed": false
   },
   "outputs": [
    {
     "name": "stdout",
     "output_type": "stream",
     "text": [
      "dictionary size: 116081\n",
      "CPU times: user 6.12 s, sys: 38.4 ms, total: 6.16 s\n",
      "Wall time: 6.14 s\n"
     ]
    }
   ],
   "source": [
    "%%time\n",
    "\n",
    "# Extract the vocabulary and related data structures for encoding/decoding the corpus.\n",
    "\n",
    "vocab_list, vocab_word2idx, vocab_idx2word = utils.create_vocab(list(df['tokenized']))"
   ]
  },
  {
   "cell_type": "code",
   "execution_count": 45,
   "metadata": {
    "collapsed": false
   },
   "outputs": [
    {
     "data": {
      "text/plain": [
       "[(u'say_VERB', 206657),\n",
       " (u'trump_PROPN', 185069),\n",
       " (u'people_NOUN', 58478),\n",
       " (u'president_PROPN', 56919),\n",
       " (u'house_PROPN', 52946),\n",
       " (u'year_NOUN', 51064),\n",
       " (u'president_NOUN', 47328),\n",
       " (u'obama_PROPN', 42440),\n",
       " (u'state_NOUN', 39197),\n",
       " (u'time_NOUN', 39013)]"
      ]
     },
     "execution_count": 45,
     "metadata": {},
     "output_type": "execute_result"
    }
   ],
   "source": [
    "# Check out the top 10 words\n",
    "\n",
    "vocab_list[:10]"
   ]
  },
  {
   "cell_type": "code",
   "execution_count": 49,
   "metadata": {
    "collapsed": false
   },
   "outputs": [
    {
     "name": "stdout",
     "output_type": "stream",
     "text": [
      "CPU times: user 4.19 s, sys: 124 ms, total: 4.32 s\n",
      "Wall time: 4.31 s\n"
     ]
    }
   ],
   "source": [
    "%%time\n",
    "\n",
    "# Encode the corpus.\n",
    "\n",
    "df['encoded_text'] = df['tokenized'].map(lambda x: [vocab_word2idx[y] for y in x.split()])"
   ]
  },
  {
   "cell_type": "code",
   "execution_count": 58,
   "metadata": {
    "collapsed": false
   },
   "outputs": [
    {
     "data": {
      "text/html": [
       "<div>\n",
       "<table border=\"1\" class=\"dataframe\">\n",
       "  <thead>\n",
       "    <tr style=\"text-align: right;\">\n",
       "      <th></th>\n",
       "      <th>text</th>\n",
       "      <th>label</th>\n",
       "      <th>url</th>\n",
       "      <th>tokenized</th>\n",
       "      <th>encoded_label</th>\n",
       "      <th>encoded_text</th>\n",
       "    </tr>\n",
       "  </thead>\n",
       "  <tbody>\n",
       "    <tr>\n",
       "      <th>0</th>\n",
       "      <td>Big government has been crushing the United St...</td>\n",
       "      <td>conservative</td>\n",
       "      <td>http://dailysurge.com/2016/12/commentary-resto...</td>\n",
       "      <td>big_ADJ government_NOUN crush_VERB united_PROP...</td>\n",
       "      <td>0</td>\n",
       "      <td>[147, 14, 4668, 25, 38, 444, 360, 5, 14550, 16...</td>\n",
       "    </tr>\n",
       "    <tr>\n",
       "      <th>1</th>\n",
       "      <td>During the eight years of the Obama administra...</td>\n",
       "      <td>conservative</td>\n",
       "      <td>http://dailysurge.com/2016/12/commentary-welco...</td>\n",
       "      <td>year_NOUN obama_PROPN administration_NOUN witn...</td>\n",
       "      <td>0</td>\n",
       "      <td>[5, 7, 16, 2889, 60912, 72, 41, 7, 480, 6, 406...</td>\n",
       "    </tr>\n",
       "    <tr>\n",
       "      <th>2</th>\n",
       "      <td>We are witnessing the rise of a new “right” wh...</td>\n",
       "      <td>conservative</td>\n",
       "      <td>http://dailysurge.com/2016/11/commentary-28th-...</td>\n",
       "      <td>witness_VERB rise_NOUN new_ADJ right_INTJ libe...</td>\n",
       "      <td>0</td>\n",
       "      <td>[2889, 1700, 20, 2813, 1241, 3611, 235, 30, 14...</td>\n",
       "    </tr>\n",
       "    <tr>\n",
       "      <th>3</th>\n",
       "      <td>If there’s one thing that Americans find intol...</td>\n",
       "      <td>conservative</td>\n",
       "      <td>http://dailysurge.com/2016/11/commentary-retur...</td>\n",
       "      <td>thing_NOUN americans_PROPN find_VERB intolerab...</td>\n",
       "      <td>0</td>\n",
       "      <td>[72, 129, 54, 9584, 6720, 7117, 178, 18, 564, ...</td>\n",
       "    </tr>\n",
       "    <tr>\n",
       "      <th>4</th>\n",
       "      <td>What is Airbnb? Airbnb is an online marketplac...</td>\n",
       "      <td>conservative</td>\n",
       "      <td>http://dailysurge.com/2016/11/commentary-airbn...</td>\n",
       "      <td>airbnb_PROPN airbnb_PROPN online_ADJ marketpla...</td>\n",
       "      <td>0</td>\n",
       "      <td>[7024, 7024, 1742, 4014, 179, 2, 154, 1015, 14...</td>\n",
       "    </tr>\n",
       "  </tbody>\n",
       "</table>\n",
       "</div>"
      ],
      "text/plain": [
       "                                                text         label  \\\n",
       "0  Big government has been crushing the United St...  conservative   \n",
       "1  During the eight years of the Obama administra...  conservative   \n",
       "2  We are witnessing the rise of a new “right” wh...  conservative   \n",
       "3  If there’s one thing that Americans find intol...  conservative   \n",
       "4  What is Airbnb? Airbnb is an online marketplac...  conservative   \n",
       "\n",
       "                                                 url  \\\n",
       "0  http://dailysurge.com/2016/12/commentary-resto...   \n",
       "1  http://dailysurge.com/2016/12/commentary-welco...   \n",
       "2  http://dailysurge.com/2016/11/commentary-28th-...   \n",
       "3  http://dailysurge.com/2016/11/commentary-retur...   \n",
       "4  http://dailysurge.com/2016/11/commentary-airbn...   \n",
       "\n",
       "                                           tokenized  encoded_label  \\\n",
       "0  big_ADJ government_NOUN crush_VERB united_PROP...              0   \n",
       "1  year_NOUN obama_PROPN administration_NOUN witn...              0   \n",
       "2  witness_VERB rise_NOUN new_ADJ right_INTJ libe...              0   \n",
       "3  thing_NOUN americans_PROPN find_VERB intolerab...              0   \n",
       "4  airbnb_PROPN airbnb_PROPN online_ADJ marketpla...              0   \n",
       "\n",
       "                                        encoded_text  \n",
       "0  [147, 14, 4668, 25, 38, 444, 360, 5, 14550, 16...  \n",
       "1  [5, 7, 16, 2889, 60912, 72, 41, 7, 480, 6, 406...  \n",
       "2  [2889, 1700, 20, 2813, 1241, 3611, 235, 30, 14...  \n",
       "3  [72, 129, 54, 9584, 6720, 7117, 178, 18, 564, ...  \n",
       "4  [7024, 7024, 1742, 4014, 179, 2, 154, 1015, 14...  "
      ]
     },
     "execution_count": 58,
     "metadata": {},
     "output_type": "execute_result"
    }
   ],
   "source": [
    "# Encode the labels.\n",
    "\n",
    "df['encoded_label'] = LabelEncoder().fit_transform([x for x in df['label']])\n",
    "df.head()"
   ]
  },
  {
   "cell_type": "code",
   "execution_count": 67,
   "metadata": {
    "collapsed": false
   },
   "outputs": [],
   "source": []
  },
  {
   "cell_type": "markdown",
   "metadata": {},
   "source": [
    "### Write the data"
   ]
  },
  {
   "cell_type": "code",
   "execution_count": 68,
   "metadata": {
    "collapsed": false
   },
   "outputs": [
    {
     "name": "stdout",
     "output_type": "stream",
     "text": [
      "wrote to ../data/data-False-3\n"
     ]
    }
   ],
   "source": [
    "_ = utils.write_dataset('../data/data', df, keep_stops, min_sents, vocab_list, vocab_word2idx, vocab_idx2word)"
   ]
  },
  {
   "cell_type": "code",
   "execution_count": null,
   "metadata": {
    "collapsed": true
   },
   "outputs": [],
   "source": []
  }
 ],
 "metadata": {
  "kernelspec": {
   "display_name": "Python 2",
   "language": "python",
   "name": "python2"
  },
  "language_info": {
   "codemirror_mode": {
    "name": "ipython",
    "version": 2
   },
   "file_extension": ".py",
   "mimetype": "text/x-python",
   "name": "python",
   "nbconvert_exporter": "python",
   "pygments_lexer": "ipython2",
   "version": "2.7.13"
  }
 },
 "nbformat": 4,
 "nbformat_minor": 0
}
